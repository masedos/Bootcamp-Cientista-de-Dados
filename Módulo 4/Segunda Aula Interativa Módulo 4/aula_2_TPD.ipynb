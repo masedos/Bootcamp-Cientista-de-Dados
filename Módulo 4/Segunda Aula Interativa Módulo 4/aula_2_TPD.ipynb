{
  "nbformat": 4,
  "nbformat_minor": 0,
  "metadata": {
    "name": "aula_2_TPD",
    "notebookId": 2916385380029198,
    "colab": {
      "name": "aula_2_TPD.ipynb",
      "provenance": []
    }
  },
  "cells": [
    {
      "cell_type": "code",
      "metadata": {
        "id": "pxEbchopvZ3W"
      },
      "source": [
        "#notebook para a segunda aula interativa de TPD"
      ],
      "execution_count": null,
      "outputs": []
    },
    {
      "cell_type": "markdown",
      "metadata": {
        "id": "TvI3UDCXvZ5N"
      },
      "source": [
        "1) Iniciar a seção SPARK"
      ]
    },
    {
      "cell_type": "code",
      "metadata": {
        "id": "-tY1EzT0vZ5W",
        "outputId": "e972f06e-e9e0-4a4d-868b-185c6c8553f5"
      },
      "source": [
        "from pyspark.sql import SparkSession #importa a biblioteca que cria a seção do spark"
      ],
      "execution_count": null,
      "outputs": [
        {
          "output_type": "display_data",
          "data": {
            "text/html": [
              "<style scoped>\n",
              "  .ansiout {\n",
              "    display: block;\n",
              "    unicode-bidi: embed;\n",
              "    white-space: pre-wrap;\n",
              "    word-wrap: break-word;\n",
              "    word-break: break-all;\n",
              "    font-family: \"Source Code Pro\", \"Menlo\", monospace;;\n",
              "    font-size: 13px;\n",
              "    color: #555;\n",
              "    margin-left: 4px;\n",
              "    line-height: 19px;\n",
              "  }\n",
              "</style>\n",
              "<div class=\"ansiout\"></div>"
            ]
          },
          "metadata": {
            "tags": []
          }
        }
      ]
    },
    {
      "cell_type": "code",
      "metadata": {
        "id": "lkNelec5vZ6O",
        "outputId": "8fd5da3c-9eff-41b0-c9d3-068476b6302b"
      },
      "source": [
        "#inicia a seção para a utilização do spark\n",
        "spark = SparkSession.builder.appName(\"aula_2\").getOrCreate() #cria a seção caso não exista ou obtém a já criada"
      ],
      "execution_count": null,
      "outputs": [
        {
          "output_type": "display_data",
          "data": {
            "text/html": [
              "<style scoped>\n",
              "  .ansiout {\n",
              "    display: block;\n",
              "    unicode-bidi: embed;\n",
              "    white-space: pre-wrap;\n",
              "    word-wrap: break-word;\n",
              "    word-break: break-all;\n",
              "    font-family: \"Source Code Pro\", \"Menlo\", monospace;;\n",
              "    font-size: 13px;\n",
              "    color: #555;\n",
              "    margin-left: 4px;\n",
              "    line-height: 19px;\n",
              "  }\n",
              "</style>\n",
              "<div class=\"ansiout\"></div>"
            ]
          },
          "metadata": {
            "tags": []
          }
        }
      ]
    },
    {
      "cell_type": "code",
      "metadata": {
        "id": "DHVgWFU6vZ67",
        "outputId": "bb10a2ea-67a1-458e-bd55-f1784d589524"
      },
      "source": [
        "%fs ls /FileStore/tables    "
      ],
      "execution_count": null,
      "outputs": [
        {
          "output_type": "display_data",
          "data": {
            "text/html": [
              "<style scoped>\n",
              "  .table-result-container {\n",
              "    max-height: 300px;\n",
              "    overflow: auto;\n",
              "  }\n",
              "  table, th, td {\n",
              "    border: 1px solid black;\n",
              "    border-collapse: collapse;\n",
              "  }\n",
              "  th, td {\n",
              "    padding: 5px;\n",
              "  }\n",
              "  th {\n",
              "    text-align: left;\n",
              "  }\n",
              "</style><div class='table-result-container'><table class='table-result'><thead style='background-color: white'><tr><th>path</th><th>name</th><th>size</th></tr></thead><tbody><tr><td>dbfs:/FileStore/tables/Mall_Customers.csv</td><td>Mall_Customers.csv</td><td>4286</td></tr><tr><td>dbfs:/FileStore/tables/Police_Department_Incident_Reports__Historical_2003_to_May_2018.csv</td><td>Police_Department_Incident_Reports__Historical_2003_to_May_2018.csv</td><td>463094961</td></tr><tr><td>dbfs:/FileStore/tables/adult_data.csv</td><td>adult_data.csv</td><td>5608318</td></tr><tr><td>dbfs:/FileStore/tables/d1995_07_01-24d0c.json</td><td>d1995_07_01-24d0c.json</td><td>7451741</td></tr><tr><td>dbfs:/FileStore/tables/d1995_07_02-c3f44.json</td><td>d1995_07_02-c3f44.json</td><td>9572086</td></tr><tr><td>dbfs:/FileStore/tables/d1995_07_03-f99af.json</td><td>d1995_07_03-f99af.json</td><td>14125303</td></tr><tr><td>dbfs:/FileStore/tables/d1995_07_04-c5a7f.json</td><td>d1995_07_04-c5a7f.json</td><td>12030333</td></tr><tr><td>dbfs:/FileStore/tables/d1995_07_05-0f261.json</td><td>d1995_07_05-0f261.json</td><td>14662194</td></tr><tr><td>dbfs:/FileStore/tables/d1995_07_06-20619.json</td><td>d1995_07_06-20619.json</td><td>15557682</td></tr><tr><td>dbfs:/FileStore/tables/d1995_07_07-2dd8d.json</td><td>d1995_07_07-2dd8d.json</td><td>15279295</td></tr><tr><td>dbfs:/FileStore/tables/d1995_07_08-83302.json</td><td>d1995_07_08-83302.json</td><td>7033852</td></tr><tr><td>dbfs:/FileStore/tables/d1995_07_09-f75d3.json</td><td>d1995_07_09-f75d3.json</td><td>5589076</td></tr><tr><td>dbfs:/FileStore/tables/d1995_07_10-160a3.json</td><td>d1995_07_10-160a3.json</td><td>10616482</td></tr><tr><td>dbfs:/FileStore/tables/d1995_07_11-8800f.json</td><td>d1995_07_11-8800f.json</td><td>12486245</td></tr><tr><td>dbfs:/FileStore/tables/d1995_07_12-3091c.json</td><td>d1995_07_12-3091c.json</td><td>14080494</td></tr><tr><td>dbfs:/FileStore/tables/d1995_07_13-242b2.json</td><td>d1995_07_13-242b2.json</td><td>21989188</td></tr><tr><td>dbfs:/FileStore/tables/d1995_07_14-bab67.json</td><td>d1995_07_14-bab67.json</td><td>13780636</td></tr><tr><td>dbfs:/FileStore/tables/d1995_07_15-57e08.json</td><td>d1995_07_15-57e08.json</td><td>8057272</td></tr><tr><td>dbfs:/FileStore/tables/d1995_07_16-2ca03.json</td><td>d1995_07_16-2ca03.json</td><td>7171848</td></tr><tr><td>dbfs:/FileStore/tables/d1995_07_17-905a5.json</td><td>d1995_07_17-905a5.json</td><td>11897536</td></tr><tr><td>dbfs:/FileStore/tables/d1995_07_18-13b8b.json</td><td>d1995_07_18-13b8b.json</td><td>10569098</td></tr><tr><td>dbfs:/FileStore/tables/d1995_07_19-e2537.json</td><td>d1995_07_19-e2537.json</td><td>11515206</td></tr><tr><td>dbfs:/FileStore/tables/d1995_07_20-0f6d2.json</td><td>d1995_07_20-0f6d2.json</td><td>11049142</td></tr><tr><td>dbfs:/FileStore/tables/d1995_07_21-37a88.json</td><td>d1995_07_21-37a88.json</td><td>10475868</td></tr><tr><td>dbfs:/FileStore/tables/d1995_07_22-3b894.json</td><td>d1995_07_22-3b894.json</td><td>6028420</td></tr><tr><td>dbfs:/FileStore/tables/d1995_07_23-8d606.json</td><td>d1995_07_23-8d606.json</td><td>5620028</td></tr><tr><td>dbfs:/FileStore/tables/d1995_07_24-bcae5.json</td><td>d1995_07_24-bcae5.json</td><td>10433367</td></tr><tr><td>dbfs:/FileStore/tables/d1995_07_25-22c14.json</td><td>d1995_07_25-22c14.json</td><td>9883055</td></tr><tr><td>dbfs:/FileStore/tables/d1995_07_26-8a504.json</td><td>d1995_07_26-8a504.json</td><td>9087395</td></tr><tr><td>dbfs:/FileStore/tables/d1995_07_27-32f69.json</td><td>d1995_07_27-32f69.json</td><td>10172162</td></tr><tr><td>dbfs:/FileStore/tables/d1995_07_28-8d6d2.json</td><td>d1995_07_28-8d6d2.json</td><td>6206927</td></tr><tr><td>dbfs:/FileStore/tables/datasets_228_482_diabetes.csv</td><td>datasets_228_482_diabetes.csv</td><td>23873</td></tr><tr><td>dbfs:/FileStore/tables/designation.json</td><td>designation.json</td><td>400</td></tr><tr><td>dbfs:/FileStore/tables/digits.csv</td><td>digits.csv</td><td>338477</td></tr><tr><td>dbfs:/FileStore/tables/digitsNew.csv</td><td>digitsNew.csv</td><td>76775041</td></tr><tr><td>dbfs:/FileStore/tables/iris_bezdekIris.csv</td><td>iris_bezdekIris.csv</td><td>4551</td></tr><tr><td>dbfs:/FileStore/tables/kddcup_data_10_percent_corrected-2f6f3</td><td>kddcup_data_10_percent_corrected-2f6f3</td><td>74889749</td></tr><tr><td>dbfs:/FileStore/tables/regressaoLinear.csv</td><td>regressaoLinear.csv</td><td>564</td></tr><tr><td>dbfs:/FileStore/tables/salario_df.csv</td><td>salario_df.csv</td><td>2505</td></tr><tr><td>dbfs:/FileStore/tables/salary.json</td><td>salary.json</td><td>361</td></tr><tr><td>dbfs:/FileStore/tables/temperature.csv</td><td>temperature.csv</td><td>13971171</td></tr><tr><td>dbfs:/FileStore/tables/transport_nodes-7c826.csv</td><td>transport_nodes-7c826.csv</td><td>465</td></tr><tr><td>dbfs:/FileStore/tables/transport_relationships-c2bfc.csv</td><td>transport_relationships-c2bfc.csv</td><td>550</td></tr><tr><td>dbfs:/FileStore/tables/u.data</td><td>u.data</td><td>1979173</td></tr><tr><td>dbfs:/FileStore/tables/winequality_red-42ff5.csv</td><td>winequality_red-42ff5.csv</td><td>84199</td></tr><tr><td>dbfs:/FileStore/tables/worldcities.csv</td><td>worldcities.csv</td><td>1667065</td></tr></tbody></table></div>"
            ]
          },
          "metadata": {
            "tags": []
          }
        }
      ]
    },
    {
      "cell_type": "code",
      "metadata": {
        "id": "02gWnzrovZ7h",
        "outputId": "51b87f3f-17be-4670-efbd-f03e17a4dd34"
      },
      "source": [
        "diretorio_dataset=\"/FileStore/tables/adult_data.csv\"  #diretório que contém o arquivo a ser utilizado"
      ],
      "execution_count": null,
      "outputs": [
        {
          "output_type": "display_data",
          "data": {
            "text/html": [
              "<style scoped>\n",
              "  .ansiout {\n",
              "    display: block;\n",
              "    unicode-bidi: embed;\n",
              "    white-space: pre-wrap;\n",
              "    word-wrap: break-word;\n",
              "    word-break: break-all;\n",
              "    font-family: \"Source Code Pro\", \"Menlo\", monospace;;\n",
              "    font-size: 13px;\n",
              "    color: #555;\n",
              "    margin-left: 4px;\n",
              "    line-height: 19px;\n",
              "  }\n",
              "</style>\n",
              "<div class=\"ansiout\"></div>"
            ]
          },
          "metadata": {
            "tags": []
          }
        }
      ]
    },
    {
      "cell_type": "code",
      "metadata": {
        "id": "6-yHEdSAvZ8L",
        "outputId": "7a28d281-2dca-40dd-cfe8-d10bb3a09f15"
      },
      "source": [
        "data = spark.read.format(\"csv\").options(header=\"true\", inferschema=\"true\").load(diretorio_dataset)  #realiza a leitura do dataset"
      ],
      "execution_count": null,
      "outputs": [
        {
          "output_type": "display_data",
          "data": {
            "text/html": [
              "<style scoped>\n",
              "  .ansiout {\n",
              "    display: block;\n",
              "    unicode-bidi: embed;\n",
              "    white-space: pre-wrap;\n",
              "    word-wrap: break-word;\n",
              "    word-break: break-all;\n",
              "    font-family: \"Source Code Pro\", \"Menlo\", monospace;;\n",
              "    font-size: 13px;\n",
              "    color: #555;\n",
              "    margin-left: 4px;\n",
              "    line-height: 19px;\n",
              "  }\n",
              "</style>\n",
              "<div class=\"ansiout\"></div>"
            ]
          },
          "metadata": {
            "tags": []
          }
        }
      ]
    },
    {
      "cell_type": "code",
      "metadata": {
        "id": "bO-R2kHHvZ8w",
        "outputId": "9abdafcc-f875-4617-b121-8025bb6bf4fb"
      },
      "source": [
        "data.printSchema() #mostra o esquema inferido pelas variáveis"
      ],
      "execution_count": null,
      "outputs": [
        {
          "output_type": "display_data",
          "data": {
            "text/html": [
              "<style scoped>\n",
              "  .ansiout {\n",
              "    display: block;\n",
              "    unicode-bidi: embed;\n",
              "    white-space: pre-wrap;\n",
              "    word-wrap: break-word;\n",
              "    word-break: break-all;\n",
              "    font-family: \"Source Code Pro\", \"Menlo\", monospace;;\n",
              "    font-size: 13px;\n",
              "    color: #555;\n",
              "    margin-left: 4px;\n",
              "    line-height: 19px;\n",
              "  }\n",
              "</style>\n",
              "<div class=\"ansiout\">root\n",
              "-- x: integer (nullable = true)\n",
              "-- age: integer (nullable = true)\n",
              "-- workclass: string (nullable = true)\n",
              "-- fnlwgt: integer (nullable = true)\n",
              "-- education: string (nullable = true)\n",
              "-- educational-num: integer (nullable = true)\n",
              "-- marital-status: string (nullable = true)\n",
              "-- occupation: string (nullable = true)\n",
              "-- relationship: string (nullable = true)\n",
              "-- race: string (nullable = true)\n",
              "-- gender: string (nullable = true)\n",
              "-- capital-gain: integer (nullable = true)\n",
              "-- capital-loss: integer (nullable = true)\n",
              "-- hours-per-week: integer (nullable = true)\n",
              "-- native-country: string (nullable = true)\n",
              "-- income: string (nullable = true)\n",
              "\n",
              "</div>"
            ]
          },
          "metadata": {
            "tags": []
          }
        }
      ]
    },
    {
      "cell_type": "markdown",
      "metadata": {
        "id": "La9zPFH_vZ9Z"
      },
      "source": [
        "2) Conhecendo o dataset"
      ]
    },
    {
      "cell_type": "code",
      "metadata": {
        "id": "72zRuOmEvZ9g",
        "outputId": "28dcc293-e5c0-49da-d845-c5254d332af6"
      },
      "source": [
        "data.show() #mostra as linhas iniciais do dataset"
      ],
      "execution_count": null,
      "outputs": [
        {
          "output_type": "display_data",
          "data": {
            "text/html": [
              "<style scoped>\n",
              "  .ansiout {\n",
              "    display: block;\n",
              "    unicode-bidi: embed;\n",
              "    white-space: pre-wrap;\n",
              "    word-wrap: break-word;\n",
              "    word-break: break-all;\n",
              "    font-family: \"Source Code Pro\", \"Menlo\", monospace;;\n",
              "    font-size: 13px;\n",
              "    color: #555;\n",
              "    margin-left: 4px;\n",
              "    line-height: 19px;\n",
              "  }\n",
              "</style>\n",
              "<div class=\"ansiout\">+---+---+----------------+------+------------+---------------+------------------+-----------------+-------------+------------------+------+------------+------------+--------------+--------------+------+\n",
              "  x|age|       workclass|fnlwgt|   education|educational-num|    marital-status|       occupation| relationship|              race|gender|capital-gain|capital-loss|hours-per-week|native-country|income|\n",
              "+---+---+----------------+------+------------+---------------+------------------+-----------------+-------------+------------------+------+------------+------------+--------------+--------------+------+\n",
              "  1| 25|         Private|226802|        11th|              7|     Never-married|Machine-op-inspct|    Own-child|             Black|  Male|           0|           0|            40| United-States| &lt;=50K|\n",
              "  2| 38|         Private| 89814|     HS-grad|              9|Married-civ-spouse|  Farming-fishing|      Husband|             White|  Male|           0|           0|            50| United-States| &lt;=50K|\n",
              "  3| 28|       Local-gov|336951|  Assoc-acdm|             12|Married-civ-spouse|  Protective-serv|      Husband|             White|  Male|           0|           0|            40| United-States|  &gt;50K|\n",
              "  4| 44|         Private|160323|Some-college|             10|Married-civ-spouse|Machine-op-inspct|      Husband|             Black|  Male|        7688|           0|            40| United-States|  &gt;50K|\n",
              "  5| 18|               ?|103497|Some-college|             10|     Never-married|                ?|    Own-child|             White|Female|           0|           0|            30| United-States| &lt;=50K|\n",
              "  6| 34|         Private|198693|        10th|              6|     Never-married|    Other-service|Not-in-family|             White|  Male|           0|           0|            30| United-States| &lt;=50K|\n",
              "  7| 29|               ?|227026|     HS-grad|              9|     Never-married|                ?|    Unmarried|             Black|  Male|           0|           0|            40| United-States| &lt;=50K|\n",
              "  8| 63|Self-emp-not-inc|104626| Prof-school|             15|Married-civ-spouse|   Prof-specialty|      Husband|             White|  Male|        3103|           0|            32| United-States|  &gt;50K|\n",
              "  9| 24|         Private|369667|Some-college|             10|     Never-married|    Other-service|    Unmarried|             White|Female|           0|           0|            40| United-States| &lt;=50K|\n",
              " 10| 55|         Private|104996|     7th-8th|              4|Married-civ-spouse|     Craft-repair|      Husband|             White|  Male|           0|           0|            10| United-States| &lt;=50K|\n",
              " 11| 65|         Private|184454|     HS-grad|              9|Married-civ-spouse|Machine-op-inspct|      Husband|             White|  Male|        6418|           0|            40| United-States|  &gt;50K|\n",
              " 12| 36|     Federal-gov|212465|   Bachelors|             13|Married-civ-spouse|     Adm-clerical|      Husband|             White|  Male|           0|           0|            40| United-States| &lt;=50K|\n",
              " 13| 26|         Private| 82091|     HS-grad|              9|     Never-married|     Adm-clerical|Not-in-family|             White|Female|           0|           0|            39| United-States| &lt;=50K|\n",
              " 14| 58|               ?|299831|     HS-grad|              9|Married-civ-spouse|                ?|      Husband|             White|  Male|           0|           0|            35| United-States| &lt;=50K|\n",
              " 15| 48|         Private|279724|     HS-grad|              9|Married-civ-spouse|Machine-op-inspct|      Husband|             White|  Male|        3103|           0|            48| United-States|  &gt;50K|\n",
              " 16| 43|         Private|346189|     Masters|             14|Married-civ-spouse|  Exec-managerial|      Husband|             White|  Male|           0|           0|            50| United-States|  &gt;50K|\n",
              " 17| 20|       State-gov|444554|Some-college|             10|     Never-married|    Other-service|    Own-child|             White|  Male|           0|           0|            25| United-States| &lt;=50K|\n",
              " 18| 43|         Private|128354|     HS-grad|              9|Married-civ-spouse|     Adm-clerical|         Wife|             White|Female|           0|           0|            30| United-States| &lt;=50K|\n",
              " 19| 37|         Private| 60548|     HS-grad|              9|           Widowed|Machine-op-inspct|    Unmarried|             White|Female|           0|           0|            20| United-States| &lt;=50K|\n",
              " 20| 40|         Private| 85019|   Doctorate|             16|Married-civ-spouse|   Prof-specialty|      Husband|Asian-Pac-Islander|  Male|           0|           0|            45|             ?|  &gt;50K|\n",
              "+---+---+----------------+------+------------+---------------+------------------+-----------------+-------------+------------------+------+------------+------------+--------------+--------------+------+\n",
              "only showing top 20 rows\n",
              "\n",
              "</div>"
            ]
          },
          "metadata": {
            "tags": []
          }
        }
      ]
    },
    {
      "cell_type": "code",
      "metadata": {
        "id": "cZnJWcrcvZ-I",
        "outputId": "2ecdbdd2-bcf8-4d91-adb8-94d9ece79f4c"
      },
      "source": [
        "#número de instancias no dataset\n",
        "data.count()"
      ],
      "execution_count": null,
      "outputs": [
        {
          "output_type": "display_data",
          "data": {
            "text/html": [
              "<style scoped>\n",
              "  .ansiout {\n",
              "    display: block;\n",
              "    unicode-bidi: embed;\n",
              "    white-space: pre-wrap;\n",
              "    word-wrap: break-word;\n",
              "    word-break: break-all;\n",
              "    font-family: \"Source Code Pro\", \"Menlo\", monospace;;\n",
              "    font-size: 13px;\n",
              "    color: #555;\n",
              "    margin-left: 4px;\n",
              "    line-height: 19px;\n",
              "  }\n",
              "</style>\n",
              "<div class=\"ansiout\">Out[14]: 48842</div>"
            ]
          },
          "metadata": {
            "tags": []
          }
        }
      ]
    },
    {
      "cell_type": "code",
      "metadata": {
        "id": "j_QjLPiIvZ-r",
        "outputId": "2dab6168-fc2e-4f26-c457-6ef5d01fca1d"
      },
      "source": [
        "#seleção de colunas\n",
        "data.select('age','fnlwgt').show(5)"
      ],
      "execution_count": null,
      "outputs": [
        {
          "output_type": "display_data",
          "data": {
            "text/html": [
              "<style scoped>\n",
              "  .ansiout {\n",
              "    display: block;\n",
              "    unicode-bidi: embed;\n",
              "    white-space: pre-wrap;\n",
              "    word-wrap: break-word;\n",
              "    word-break: break-all;\n",
              "    font-family: \"Source Code Pro\", \"Menlo\", monospace;;\n",
              "    font-size: 13px;\n",
              "    color: #555;\n",
              "    margin-left: 4px;\n",
              "    line-height: 19px;\n",
              "  }\n",
              "</style>\n",
              "<div class=\"ansiout\">+---+------+\n",
              "age|fnlwgt|\n",
              "+---+------+\n",
              " 25|226802|\n",
              " 38| 89814|\n",
              " 28|336951|\n",
              " 44|160323|\n",
              " 18|103497|\n",
              "+---+------+\n",
              "only showing top 5 rows\n",
              "\n",
              "</div>"
            ]
          },
          "metadata": {
            "tags": []
          }
        }
      ]
    },
    {
      "cell_type": "code",
      "metadata": {
        "id": "tws-4At4vZ_T",
        "outputId": "3d90db5f-5a52-423f-93b1-96dfed08d1fe"
      },
      "source": [
        "#contando a quantidade de pessoas por tipo de educação\n",
        "data.groupBy(\"education\").count().sort(\"count\",ascending=True).show()\t"
      ],
      "execution_count": null,
      "outputs": [
        {
          "output_type": "display_data",
          "data": {
            "text/html": [
              "<style scoped>\n",
              "  .ansiout {\n",
              "    display: block;\n",
              "    unicode-bidi: embed;\n",
              "    white-space: pre-wrap;\n",
              "    word-wrap: break-word;\n",
              "    word-break: break-all;\n",
              "    font-family: \"Source Code Pro\", \"Menlo\", monospace;;\n",
              "    font-size: 13px;\n",
              "    color: #555;\n",
              "    margin-left: 4px;\n",
              "    line-height: 19px;\n",
              "  }\n",
              "</style>\n",
              "<div class=\"ansiout\">+------------+-----+\n",
              "   education|count|\n",
              "+------------+-----+\n",
              "   Preschool|   83|\n",
              "     1st-4th|  247|\n",
              "     5th-6th|  509|\n",
              "   Doctorate|  594|\n",
              "        12th|  657|\n",
              "         9th|  756|\n",
              " Prof-school|  834|\n",
              "     7th-8th|  955|\n",
              "        10th| 1389|\n",
              "  Assoc-acdm| 1601|\n",
              "        11th| 1812|\n",
              "   Assoc-voc| 2061|\n",
              "     Masters| 2657|\n",
              "   Bachelors| 8025|\n",
              "Some-college|10878|\n",
              "     HS-grad|15784|\n",
              "+------------+-----+\n",
              "\n",
              "</div>"
            ]
          },
          "metadata": {
            "tags": []
          }
        }
      ]
    },
    {
      "cell_type": "code",
      "metadata": {
        "id": "BfqKqqCwvZ_x",
        "outputId": "239c423e-961b-4bbc-fb41-440d93d82fb8"
      },
      "source": [
        "#craindo um histograma\n",
        "educacao=data.groupBy(\"education\").count().sort(\"count\",ascending=True)\n",
        "display(educacao)"
      ],
      "execution_count": null,
      "outputs": [
        {
          "output_type": "display_data",
          "data": {
            "text/html": [
              "<style scoped>\n",
              "  .table-result-container {\n",
              "    max-height: 300px;\n",
              "    overflow: auto;\n",
              "  }\n",
              "  table, th, td {\n",
              "    border: 1px solid black;\n",
              "    border-collapse: collapse;\n",
              "  }\n",
              "  th, td {\n",
              "    padding: 5px;\n",
              "  }\n",
              "  th {\n",
              "    text-align: left;\n",
              "  }\n",
              "</style><div class='table-result-container'><table class='table-result'><thead style='background-color: white'><tr><th>education</th><th>count</th></tr></thead><tbody><tr><td>Preschool</td><td>83</td></tr><tr><td>1st-4th</td><td>247</td></tr><tr><td>5th-6th</td><td>509</td></tr><tr><td>Doctorate</td><td>594</td></tr><tr><td>12th</td><td>657</td></tr><tr><td>9th</td><td>756</td></tr><tr><td>Prof-school</td><td>834</td></tr><tr><td>7th-8th</td><td>955</td></tr><tr><td>10th</td><td>1389</td></tr><tr><td>Assoc-acdm</td><td>1601</td></tr><tr><td>11th</td><td>1812</td></tr><tr><td>Assoc-voc</td><td>2061</td></tr><tr><td>Masters</td><td>2657</td></tr><tr><td>Bachelors</td><td>8025</td></tr><tr><td>Some-college</td><td>10878</td></tr><tr><td>HS-grad</td><td>15784</td></tr></tbody></table></div>"
            ]
          },
          "metadata": {
            "tags": []
          }
        }
      ]
    },
    {
      "cell_type": "code",
      "metadata": {
        "id": "1_Zu6zDGvaAj",
        "outputId": "3bc40c15-be20-4562-9399-c21de3f746fb"
      },
      "source": [
        "salario=data.groupBy(\"gender\",\"income\").count().sort(\"count\",ascending=True)\n",
        "display(salario)"
      ],
      "execution_count": null,
      "outputs": [
        {
          "output_type": "display_data",
          "data": {
            "text/html": [
              "<style scoped>\n",
              "  .table-result-container {\n",
              "    max-height: 300px;\n",
              "    overflow: auto;\n",
              "  }\n",
              "  table, th, td {\n",
              "    border: 1px solid black;\n",
              "    border-collapse: collapse;\n",
              "  }\n",
              "  th, td {\n",
              "    padding: 5px;\n",
              "  }\n",
              "  th {\n",
              "    text-align: left;\n",
              "  }\n",
              "</style><div class='table-result-container'><table class='table-result'><thead style='background-color: white'><tr><th>gender</th><th>income</th><th>count</th></tr></thead><tbody><tr><td>Female</td><td>>50K</td><td>1769</td></tr><tr><td>Male</td><td>>50K</td><td>9918</td></tr><tr><td>Female</td><td><=50K</td><td>14423</td></tr><tr><td>Male</td><td><=50K</td><td>22732</td></tr></tbody></table></div>"
            ]
          },
          "metadata": {
            "tags": []
          }
        }
      ]
    },
    {
      "cell_type": "code",
      "metadata": {
        "id": "_CnkcIZpvaBL",
        "outputId": "3c459b03-15b2-4247-f011-4ca91b864ebf"
      },
      "source": [
        "#encontrando as estatísticas\n",
        "entradas_numericas  = ['age', 'fnlwgt',\"capital-gain\", \"educational-num\", \"capital-loss\", \"hours-per-week\"]\n",
        "data.describe(entradas_numericas).show(truncate=False)"
      ],
      "execution_count": null,
      "outputs": [
        {
          "output_type": "display_data",
          "data": {
            "text/html": [
              "<style scoped>\n",
              "  .ansiout {\n",
              "    display: block;\n",
              "    unicode-bidi: embed;\n",
              "    white-space: pre-wrap;\n",
              "    word-wrap: break-word;\n",
              "    word-break: break-all;\n",
              "    font-family: \"Source Code Pro\", \"Menlo\", monospace;;\n",
              "    font-size: 13px;\n",
              "    color: #555;\n",
              "    margin-left: 4px;\n",
              "    line-height: 19px;\n",
              "  }\n",
              "</style>\n",
              "<div class=\"ansiout\">+-------+------------------+------------------+------------------+------------------+-----------------+------------------+\n",
              "summary|age               |fnlwgt            |capital-gain      |educational-num   |capital-loss     |hours-per-week    |\n",
              "+-------+------------------+------------------+------------------+------------------+-----------------+------------------+\n",
              "count  |48842             |48842             |48842             |48842             |48842            |48842             |\n",
              "mean   |38.64358543876172 |189664.13459727284|1079.0676262233324|10.078088530363212|87.50231358257237|40.422382375824085|\n",
              "stddev |13.710509934443525|105604.02542315757|7452.019057655418 |2.570972755592259 |403.004552124359 |12.391444024252312|\n",
              "min    |17                |12285             |0                 |1                 |0                |1                 |\n",
              "max    |90                |1490400           |99999             |16                |4356             |99                |\n",
              "+-------+------------------+------------------+------------------+------------------+-----------------+------------------+\n",
              "\n",
              "</div>"
            ]
          },
          "metadata": {
            "tags": []
          }
        }
      ]
    },
    {
      "cell_type": "code",
      "metadata": {
        "id": "8mAue-R1vaBt",
        "outputId": "3434b786-3631-4883-dd29-d2c5a005b7a1"
      },
      "source": [
        "#boxplot\n",
        "display(data.select('hours-per-week'))"
      ],
      "execution_count": null,
      "outputs": [
        {
          "output_type": "display_data",
          "data": {
            "text/html": [
              "<style scoped>\n",
              "  .table-result-container {\n",
              "    max-height: 300px;\n",
              "    overflow: auto;\n",
              "  }\n",
              "  table, th, td {\n",
              "    border: 1px solid black;\n",
              "    border-collapse: collapse;\n",
              "  }\n",
              "  th, td {\n",
              "    padding: 5px;\n",
              "  }\n",
              "  th {\n",
              "    text-align: left;\n",
              "  }\n",
              "</style><div class='table-result-container'><table class='table-result'><thead style='background-color: white'><tr><th>hours-per-week</th></tr></thead><tbody><tr><td>40</td></tr><tr><td>50</td></tr><tr><td>40</td></tr><tr><td>40</td></tr><tr><td>30</td></tr><tr><td>30</td></tr><tr><td>40</td></tr><tr><td>32</td></tr><tr><td>40</td></tr><tr><td>10</td></tr><tr><td>40</td></tr><tr><td>40</td></tr><tr><td>39</td></tr><tr><td>35</td></tr><tr><td>48</td></tr><tr><td>50</td></tr><tr><td>25</td></tr><tr><td>30</td></tr><tr><td>20</td></tr><tr><td>45</td></tr><tr><td>47</td></tr><tr><td>35</td></tr><tr><td>6</td></tr><tr><td>43</td></tr><tr><td>40</td></tr><tr><td>90</td></tr><tr><td>20</td></tr><tr><td>54</td></tr><tr><td>35</td></tr><tr><td>60</td></tr><tr><td>38</td></tr><tr><td>50</td></tr><tr><td>50</td></tr><tr><td>40</td></tr><tr><td>40</td></tr><tr><td>40</td></tr><tr><td>40</td></tr><tr><td>50</td></tr><tr><td>40</td></tr><tr><td>40</td></tr><tr><td>50</td></tr><tr><td>45</td></tr><tr><td>40</td></tr><tr><td>40</td></tr><tr><td>32</td></tr><tr><td>36</td></tr><tr><td>40</td></tr><tr><td>50</td></tr><tr><td>18</td></tr><tr><td>50</td></tr><tr><td>20</td></tr><tr><td>40</td></tr><tr><td>24</td></tr><tr><td>60</td></tr><tr><td>54</td></tr><tr><td>40</td></tr><tr><td>40</td></tr><tr><td>50</td></tr><tr><td>50</td></tr><tr><td>40</td></tr><tr><td>50</td></tr><tr><td>40</td></tr><tr><td>40</td></tr><tr><td>40</td></tr><tr><td>40</td></tr><tr><td>40</td></tr><tr><td>60</td></tr><tr><td>20</td></tr><tr><td>40</td></tr><tr><td>48</td></tr><tr><td>45</td></tr><tr><td>40</td></tr><tr><td>40</td></tr><tr><td>40</td></tr><tr><td>40</td></tr><tr><td>40</td></tr><tr><td>50</td></tr><tr><td>30</td></tr><tr><td>40</td></tr><tr><td>40</td></tr><tr><td>50</td></tr><tr><td>40</td></tr><tr><td>40</td></tr><tr><td>50</td></tr><tr><td>50</td></tr><tr><td>44</td></tr><tr><td>10</td></tr><tr><td>56</td></tr><tr><td>40</td></tr><tr><td>10</td></tr><tr><td>25</td></tr><tr><td>20</td></tr><tr><td>10</td></tr><tr><td>40</td></tr><tr><td>40</td></tr><tr><td>40</td></tr><tr><td>40</td></tr><tr><td>40</td></tr><tr><td>40</td></tr><tr><td>40</td></tr><tr><td>18</td></tr><tr><td>35</td></tr><tr><td>39</td></tr><tr><td>40</td></tr><tr><td>28</td></tr><tr><td>40</td></tr><tr><td>40</td></tr><tr><td>40</td></tr><tr><td>16</td></tr><tr><td>28</td></tr><tr><td>48</td></tr><tr><td>40</td></tr><tr><td>40</td></tr><tr><td>20</td></tr><tr><td>40</td></tr><tr><td>40</td></tr><tr><td>40</td></tr><tr><td>24</td></tr><tr><td>40</td></tr><tr><td>40</td></tr><tr><td>60</td></tr><tr><td>25</td></tr><tr><td>30</td></tr><tr><td>40</td></tr><tr><td>40</td></tr><tr><td>25</td></tr><tr><td>40</td></tr><tr><td>40</td></tr><tr><td>60</td></tr><tr><td>50</td></tr><tr><td>40</td></tr><tr><td>40</td></tr><tr><td>40</td></tr><tr><td>41</td></tr><tr><td>48</td></tr><tr><td>40</td></tr><tr><td>60</td></tr><tr><td>40</td></tr><tr><td>35</td></tr><tr><td>40</td></tr><tr><td>40</td></tr><tr><td>22</td></tr><tr><td>55</td></tr><tr><td>45</td></tr><tr><td>30</td></tr><tr><td>30</td></tr><tr><td>30</td></tr><tr><td>40</td></tr><tr><td>50</td></tr><tr><td>30</td></tr><tr><td>14</td></tr><tr><td>32</td></tr><tr><td>20</td></tr><tr><td>40</td></tr><tr><td>45</td></tr><tr><td>40</td></tr><tr><td>40</td></tr><tr><td>25</td></tr><tr><td>40</td></tr><tr><td>40</td></tr><tr><td>30</td></tr><tr><td>40</td></tr><tr><td>45</td></tr><tr><td>40</td></tr><tr><td>45</td></tr><tr><td>40</td></tr><tr><td>16</td></tr><tr><td>45</td></tr><tr><td>25</td></tr><tr><td>33</td></tr><tr><td>40</td></tr><tr><td>40</td></tr><tr><td>40</td></tr><tr><td>60</td></tr><tr><td>40</td></tr><tr><td>45</td></tr><tr><td>45</td></tr><tr><td>37</td></tr><tr><td>50</td></tr><tr><td>40</td></tr><tr><td>40</td></tr><tr><td>40</td></tr><tr><td>38</td></tr><tr><td>55</td></tr><tr><td>40</td></tr><tr><td>8</td></tr><tr><td>45</td></tr><tr><td>50</td></tr><tr><td>40</td></tr><tr><td>45</td></tr><tr><td>40</td></tr><tr><td>50</td></tr><tr><td>37</td></tr><tr><td>40</td></tr><tr><td>55</td></tr><tr><td>40</td></tr><tr><td>45</td></tr><tr><td>50</td></tr><tr><td>40</td></tr><tr><td>40</td></tr><tr><td>40</td></tr><tr><td>50</td></tr><tr><td>45</td></tr><tr><td>40</td></tr><tr><td>40</td></tr><tr><td>54</td></tr><tr><td>40</td></tr><tr><td>20</td></tr><tr><td>50</td></tr><tr><td>55</td></tr><tr><td>12</td></tr><tr><td>50</td></tr><tr><td>40</td></tr><tr><td>40</td></tr><tr><td>32</td></tr><tr><td>40</td></tr><tr><td>32</td></tr><tr><td>38</td></tr><tr><td>40</td></tr><tr><td>45</td></tr><tr><td>40</td></tr><tr><td>40</td></tr><tr><td>40</td></tr><tr><td>40</td></tr><tr><td>40</td></tr><tr><td>40</td></tr><tr><td>38</td></tr><tr><td>40</td></tr><tr><td>40</td></tr><tr><td>35</td></tr><tr><td>40</td></tr><tr><td>50</td></tr><tr><td>50</td></tr><tr><td>40</td></tr><tr><td>30</td></tr><tr><td>60</td></tr><tr><td>40</td></tr><tr><td>28</td></tr><tr><td>40</td></tr><tr><td>40</td></tr><tr><td>35</td></tr><tr><td>60</td></tr><tr><td>12</td></tr><tr><td>32</td></tr><tr><td>20</td></tr><tr><td>50</td></tr><tr><td>40</td></tr><tr><td>40</td></tr><tr><td>70</td></tr><tr><td>40</td></tr><tr><td>15</td></tr><tr><td>50</td></tr><tr><td>40</td></tr><tr><td>40</td></tr><tr><td>50</td></tr><tr><td>35</td></tr><tr><td>40</td></tr><tr><td>40</td></tr><tr><td>40</td></tr><tr><td>20</td></tr><tr><td>50</td></tr><tr><td>40</td></tr><tr><td>40</td></tr><tr><td>40</td></tr><tr><td>40</td></tr><tr><td>40</td></tr><tr><td>40</td></tr><tr><td>25</td></tr><tr><td>30</td></tr><tr><td>20</td></tr><tr><td>75</td></tr><tr><td>40</td></tr><tr><td>40</td></tr><tr><td>38</td></tr><tr><td>35</td></tr><tr><td>35</td></tr><tr><td>52</td></tr><tr><td>24</td></tr><tr><td>50</td></tr><tr><td>60</td></tr><tr><td>40</td></tr><tr><td>38</td></tr><tr><td>25</td></tr><tr><td>40</td></tr><tr><td>55</td></tr><tr><td>48</td></tr><tr><td>40</td></tr><tr><td>40</td></tr><tr><td>40</td></tr><tr><td>40</td></tr><tr><td>55</td></tr><tr><td>40</td></tr><tr><td>40</td></tr><tr><td>40</td></tr><tr><td>40</td></tr><tr><td>40</td></tr><tr><td>32</td></tr><tr><td>40</td></tr><tr><td>60</td></tr><tr><td>48</td></tr><tr><td>40</td></tr><tr><td>38</td></tr><tr><td>38</td></tr><tr><td>40</td></tr><tr><td>16</td></tr><tr><td>40</td></tr><tr><td>40</td></tr><tr><td>40</td></tr><tr><td>60</td></tr><tr><td>84</td></tr><tr><td>45</td></tr><tr><td>40</td></tr><tr><td>60</td></tr><tr><td>45</td></tr><tr><td>35</td></tr><tr><td>42</td></tr><tr><td>40</td></tr><tr><td>25</td></tr><tr><td>40</td></tr><tr><td>40</td></tr><tr><td>40</td></tr><tr><td>40</td></tr><tr><td>40</td></tr><tr><td>40</td></tr><tr><td>40</td></tr><tr><td>50</td></tr><tr><td>42</td></tr><tr><td>15</td></tr><tr><td>60</td></tr><tr><td>50</td></tr><tr><td>20</td></tr><tr><td>45</td></tr><tr><td>40</td></tr><tr><td>42</td></tr><tr><td>50</td></tr><tr><td>40</td></tr><tr><td>55</td></tr><tr><td>40</td></tr><tr><td>80</td></tr><tr><td>48</td></tr><tr><td>40</td></tr><tr><td>40</td></tr><tr><td>40</td></tr><tr><td>45</td></tr><tr><td>40</td></tr><tr><td>50</td></tr><tr><td>40</td></tr><tr><td>50</td></tr><tr><td>40</td></tr><tr><td>40</td></tr><tr><td>40</td></tr><tr><td>30</td></tr><tr><td>40</td></tr><tr><td>12</td></tr><tr><td>84</td></tr><tr><td>50</td></tr><tr><td>45</td></tr><tr><td>80</td></tr><tr><td>40</td></tr><tr><td>40</td></tr><tr><td>40</td></tr><tr><td>60</td></tr><tr><td>25</td></tr><tr><td>40</td></tr><tr><td>50</td></tr><tr><td>25</td></tr><tr><td>70</td></tr><tr><td>60</td></tr><tr><td>8</td></tr><tr><td>40</td></tr><tr><td>68</td></tr><tr><td>40</td></tr><tr><td>40</td></tr><tr><td>44</td></tr><tr><td>45</td></tr><tr><td>40</td></tr><tr><td>40</td></tr><tr><td>40</td></tr><tr><td>10</td></tr><tr><td>15</td></tr><tr><td>40</td></tr><tr><td>40</td></tr><tr><td>35</td></tr><tr><td>35</td></tr><tr><td>99</td></tr><tr><td>35</td></tr><tr><td>37</td></tr><tr><td>40</td></tr><tr><td>40</td></tr><tr><td>55</td></tr><tr><td>50</td></tr><tr><td>40</td></tr><tr><td>50</td></tr><tr><td>40</td></tr><tr><td>40</td></tr><tr><td>60</td></tr><tr><td>45</td></tr><tr><td>16</td></tr><tr><td>45</td></tr><tr><td>40</td></tr><tr><td>40</td></tr><tr><td>20</td></tr><tr><td>25</td></tr><tr><td>36</td></tr><tr><td>65</td></tr><tr><td>55</td></tr><tr><td>40</td></tr><tr><td>40</td></tr><tr><td>40</td></tr><tr><td>24</td></tr><tr><td>40</td></tr><tr><td>40</td></tr><tr><td>70</td></tr><tr><td>25</td></tr><tr><td>40</td></tr><tr><td>40</td></tr><tr><td>30</td></tr><tr><td>40</td></tr><tr><td>40</td></tr><tr><td>40</td></tr><tr><td>40</td></tr><tr><td>40</td></tr><tr><td>40</td></tr><tr><td>45</td></tr><tr><td>40</td></tr><tr><td>40</td></tr><tr><td>40</td></tr><tr><td>40</td></tr><tr><td>45</td></tr><tr><td>35</td></tr><tr><td>50</td></tr><tr><td>20</td></tr><tr><td>40</td></tr><tr><td>37</td></tr><tr><td>20</td></tr><tr><td>40</td></tr><tr><td>55</td></tr><tr><td>5</td></tr><tr><td>60</td></tr><tr><td>50</td></tr><tr><td>40</td></tr><tr><td>40</td></tr><tr><td>40</td></tr><tr><td>60</td></tr><tr><td>20</td></tr><tr><td>55</td></tr><tr><td>50</td></tr><tr><td>40</td></tr><tr><td>40</td></tr><tr><td>40</td></tr><tr><td>40</td></tr><tr><td>48</td></tr><tr><td>40</td></tr><tr><td>44</td></tr><tr><td>40</td></tr><tr><td>42</td></tr><tr><td>35</td></tr><tr><td>65</td></tr><tr><td>35</td></tr><tr><td>40</td></tr><tr><td>39</td></tr><tr><td>40</td></tr><tr><td>60</td></tr><tr><td>38</td></tr><tr><td>40</td></tr><tr><td>40</td></tr><tr><td>40</td></tr><tr><td>40</td></tr><tr><td>40</td></tr><tr><td>40</td></tr><tr><td>20</td></tr><tr><td>10</td></tr><tr><td>50</td></tr><tr><td>40</td></tr><tr><td>40</td></tr><tr><td>75</td></tr><tr><td>40</td></tr><tr><td>40</td></tr><tr><td>20</td></tr><tr><td>32</td></tr><tr><td>28</td></tr><tr><td>40</td></tr><tr><td>17</td></tr><tr><td>50</td></tr><tr><td>35</td></tr><tr><td>40</td></tr><tr><td>40</td></tr><tr><td>30</td></tr><tr><td>35</td></tr><tr><td>40</td></tr><tr><td>40</td></tr><tr><td>28</td></tr><tr><td>60</td></tr><tr><td>40</td></tr><tr><td>40</td></tr><tr><td>36</td></tr><tr><td>40</td></tr><tr><td>60</td></tr><tr><td>40</td></tr><tr><td>35</td></tr><tr><td>40</td></tr><tr><td>55</td></tr><tr><td>40</td></tr><tr><td>33</td></tr><tr><td>60</td></tr><tr><td>10</td></tr><tr><td>10</td></tr><tr><td>45</td></tr><tr><td>36</td></tr><tr><td>65</td></tr><tr><td>40</td></tr><tr><td>38</td></tr><tr><td>40</td></tr><tr><td>18</td></tr><tr><td>40</td></tr><tr><td>50</td></tr><tr><td>40</td></tr><tr><td>40</td></tr><tr><td>60</td></tr><tr><td>45</td></tr><tr><td>40</td></tr><tr><td>50</td></tr><tr><td>72</td></tr><tr><td>12</td></tr><tr><td>50</td></tr><tr><td>40</td></tr><tr><td>40</td></tr><tr><td>40</td></tr><tr><td>35</td></tr><tr><td>50</td></tr><tr><td>50</td></tr><tr><td>37</td></tr><tr><td>40</td></tr><tr><td>40</td></tr><tr><td>60</td></tr><tr><td>30</td></tr><tr><td>45</td></tr><tr><td>40</td></tr><tr><td>60</td></tr><tr><td>20</td></tr><tr><td>50</td></tr><tr><td>50</td></tr><tr><td>40</td></tr><tr><td>40</td></tr><tr><td>45</td></tr><tr><td>60</td></tr><tr><td>40</td></tr><tr><td>40</td></tr><tr><td>50</td></tr><tr><td>60</td></tr><tr><td>25</td></tr><tr><td>35</td></tr><tr><td>50</td></tr><tr><td>40</td></tr><tr><td>40</td></tr><tr><td>40</td></tr><tr><td>60</td></tr><tr><td>40</td></tr><tr><td>50</td></tr><tr><td>25</td></tr><tr><td>40</td></tr><tr><td>40</td></tr><tr><td>35</td></tr><tr><td>8</td></tr><tr><td>60</td></tr><tr><td>40</td></tr><tr><td>54</td></tr><tr><td>40</td></tr><tr><td>65</td></tr><tr><td>37</td></tr><tr><td>40</td></tr><tr><td>30</td></tr><tr><td>48</td></tr><tr><td>35</td></tr><tr><td>40</td></tr><tr><td>50</td></tr><tr><td>80</td></tr><tr><td>45</td></tr><tr><td>45</td></tr><tr><td>45</td></tr><tr><td>40</td></tr><tr><td>40</td></tr><tr><td>50</td></tr><tr><td>40</td></tr><tr><td>40</td></tr><tr><td>30</td></tr><tr><td>40</td></tr><tr><td>40</td></tr><tr><td>40</td></tr><tr><td>40</td></tr><tr><td>40</td></tr><tr><td>40</td></tr><tr><td>35</td></tr><tr><td>20</td></tr><tr><td>50</td></tr><tr><td>40</td></tr><tr><td>28</td></tr><tr><td>55</td></tr><tr><td>55</td></tr><tr><td>35</td></tr><tr><td>40</td></tr><tr><td>40</td></tr><tr><td>60</td></tr><tr><td>40</td></tr><tr><td>40</td></tr><tr><td>40</td></tr><tr><td>40</td></tr><tr><td>50</td></tr><tr><td>40</td></tr><tr><td>40</td></tr><tr><td>56</td></tr><tr><td>48</td></tr><tr><td>30</td></tr><tr><td>40</td></tr><tr><td>40</td></tr><tr><td>40</td></tr><tr><td>30</td></tr><tr><td>40</td></tr><tr><td>40</td></tr><tr><td>53</td></tr><tr><td>38</td></tr><tr><td>35</td></tr><tr><td>40</td></tr><tr><td>40</td></tr><tr><td>40</td></tr><tr><td>50</td></tr><tr><td>10</td></tr><tr><td>45</td></tr><tr><td>60</td></tr><tr><td>40</td></tr><tr><td>40</td></tr><tr><td>37</td></tr><tr><td>40</td></tr><tr><td>30</td></tr><tr><td>52</td></tr><tr><td>40</td></tr><tr><td>40</td></tr><tr><td>10</td></tr><tr><td>42</td></tr><tr><td>40</td></tr><tr><td>40</td></tr><tr><td>40</td></tr><tr><td>40</td></tr><tr><td>40</td></tr><tr><td>40</td></tr><tr><td>25</td></tr><tr><td>25</td></tr><tr><td>40</td></tr><tr><td>40</td></tr><tr><td>20</td></tr><tr><td>40</td></tr><tr><td>40</td></tr><tr><td>20</td></tr><tr><td>40</td></tr><tr><td>40</td></tr><tr><td>20</td></tr><tr><td>50</td></tr><tr><td>25</td></tr><tr><td>55</td></tr><tr><td>45</td></tr><tr><td>20</td></tr><tr><td>32</td></tr><tr><td>10</td></tr><tr><td>40</td></tr><tr><td>29</td></tr><tr><td>32</td></tr><tr><td>40</td></tr><tr><td>40</td></tr><tr><td>40</td></tr><tr><td>75</td></tr><tr><td>24</td></tr><tr><td>35</td></tr><tr><td>40</td></tr><tr><td>40</td></tr><tr><td>40</td></tr><tr><td>20</td></tr><tr><td>50</td></tr><tr><td>40</td></tr><tr><td>40</td></tr><tr><td>50</td></tr><tr><td>20</td></tr><tr><td>40</td></tr><tr><td>40</td></tr><tr><td>52</td></tr><tr><td>40</td></tr><tr><td>52</td></tr><tr><td>70</td></tr><tr><td>40</td></tr><tr><td>55</td></tr><tr><td>40</td></tr><tr><td>35</td></tr><tr><td>40</td></tr><tr><td>55</td></tr><tr><td>30</td></tr><tr><td>40</td></tr><tr><td>40</td></tr><tr><td>25</td></tr><tr><td>10</td></tr><tr><td>80</td></tr><tr><td>45</td></tr><tr><td>40</td></tr><tr><td>50</td></tr><tr><td>60</td></tr><tr><td>16</td></tr><tr><td>40</td></tr><tr><td>40</td></tr><tr><td>25</td></tr><tr><td>40</td></tr><tr><td>40</td></tr><tr><td>40</td></tr><tr><td>45</td></tr><tr><td>65</td></tr><tr><td>40</td></tr><tr><td>40</td></tr><tr><td>50</td></tr><tr><td>40</td></tr><tr><td>40</td></tr><tr><td>37</td></tr><tr><td>60</td></tr><tr><td>48</td></tr><tr><td>40</td></tr><tr><td>48</td></tr><tr><td>60</td></tr><tr><td>96</td></tr><tr><td>40</td></tr><tr><td>40</td></tr><tr><td>50</td></tr><tr><td>25</td></tr><tr><td>40</td></tr><tr><td>50</td></tr><tr><td>40</td></tr><tr><td>45</td></tr><tr><td>50</td></tr><tr><td>40</td></tr><tr><td>20</td></tr><tr><td>50</td></tr><tr><td>40</td></tr><tr><td>55</td></tr><tr><td>30</td></tr><tr><td>50</td></tr><tr><td>40</td></tr><tr><td>40</td></tr><tr><td>40</td></tr><tr><td>50</td></tr><tr><td>40</td></tr><tr><td>28</td></tr><tr><td>60</td></tr><tr><td>52</td></tr><tr><td>45</td></tr><tr><td>40</td></tr><tr><td>50</td></tr><tr><td>35</td></tr><tr><td>50</td></tr><tr><td>40</td></tr><tr><td>40</td></tr><tr><td>45</td></tr><tr><td>33</td></tr><tr><td>40</td></tr><tr><td>50</td></tr><tr><td>55</td></tr><tr><td>40</td></tr><tr><td>40</td></tr><tr><td>40</td></tr><tr><td>33</td></tr><tr><td>28</td></tr><tr><td>40</td></tr><tr><td>40</td></tr><tr><td>40</td></tr><tr><td>40</td></tr><tr><td>35</td></tr><tr><td>21</td></tr><tr><td>40</td></tr><tr><td>40</td></tr><tr><td>8</td></tr><tr><td>35</td></tr><tr><td>60</td></tr><tr><td>50</td></tr><tr><td>60</td></tr><tr><td>40</td></tr><tr><td>40</td></tr><tr><td>40</td></tr><tr><td>40</td></tr><tr><td>40</td></tr><tr><td>40</td></tr><tr><td>40</td></tr><tr><td>40</td></tr><tr><td>15</td></tr><tr><td>40</td></tr><tr><td>40</td></tr><tr><td>40</td></tr><tr><td>40</td></tr><tr><td>20</td></tr><tr><td>40</td></tr><tr><td>40</td></tr><tr><td>40</td></tr><tr><td>10</td></tr><tr><td>43</td></tr><tr><td>45</td></tr><tr><td>30</td></tr><tr><td>45</td></tr><tr><td>25</td></tr><tr><td>45</td></tr><tr><td>50</td></tr><tr><td>40</td></tr><tr><td>40</td></tr><tr><td>48</td></tr><tr><td>40</td></tr><tr><td>40</td></tr><tr><td>38</td></tr><tr><td>40</td></tr><tr><td>90</td></tr><tr><td>40</td></tr><tr><td>40</td></tr><tr><td>40</td></tr><tr><td>15</td></tr><tr><td>40</td></tr><tr><td>5</td></tr><tr><td>16</td></tr><tr><td>25</td></tr><tr><td>60</td></tr><tr><td>37</td></tr><tr><td>25</td></tr><tr><td>40</td></tr><tr><td>35</td></tr><tr><td>40</td></tr><tr><td>40</td></tr><tr><td>40</td></tr><tr><td>25</td></tr><tr><td>45</td></tr><tr><td>55</td></tr><tr><td>10</td></tr><tr><td>46</td></tr><tr><td>30</td></tr><tr><td>40</td></tr><tr><td>35</td></tr><tr><td>40</td></tr><tr><td>40</td></tr><tr><td>40</td></tr><tr><td>8</td></tr><tr><td>40</td></tr><tr><td>18</td></tr><tr><td>40</td></tr><tr><td>3</td></tr><tr><td>16</td></tr><tr><td>40</td></tr><tr><td>40</td></tr><tr><td>50</td></tr><tr><td>20</td></tr><tr><td>40</td></tr><tr><td>30</td></tr><tr><td>40</td></tr><tr><td>60</td></tr><tr><td>40</td></tr><tr><td>50</td></tr><tr><td>40</td></tr><tr><td>35</td></tr><tr><td>30</td></tr><tr><td>40</td></tr><tr><td>40</td></tr><tr><td>25</td></tr><tr><td>40</td></tr><tr><td>48</td></tr><tr><td>40</td></tr><tr><td>40</td></tr><tr><td>35</td></tr><tr><td>40</td></tr><tr><td>39</td></tr><tr><td>40</td></tr><tr><td>55</td></tr><tr><td>40</td></tr><tr><td>1</td></tr><tr><td>50</td></tr><tr><td>50</td></tr><tr><td>45</td></tr><tr><td>40</td></tr><tr><td>40</td></tr><tr><td>55</td></tr><tr><td>40</td></tr><tr><td>40</td></tr><tr><td>40</td></tr><tr><td>40</td></tr><tr><td>40</td></tr><tr><td>60</td></tr><tr><td>30</td></tr><tr><td>50</td></tr><tr><td>40</td></tr><tr><td>35</td></tr><tr><td>40</td></tr><tr><td>40</td></tr><tr><td>45</td></tr><tr><td>55</td></tr><tr><td>40</td></tr><tr><td>40</td></tr><tr><td>44</td></tr><tr><td>60</td></tr><tr><td>40</td></tr><tr><td>50</td></tr><tr><td>45</td></tr><tr><td>30</td></tr><tr><td>50</td></tr><tr><td>44</td></tr><tr><td>99</td></tr><tr><td>40</td></tr><tr><td>40</td></tr><tr><td>38</td></tr><tr><td>60</td></tr><tr><td>60</td></tr><tr><td>80</td></tr><tr><td>55</td></tr><tr><td>40</td></tr><tr><td>40</td></tr><tr><td>38</td></tr><tr><td>40</td></tr><tr><td>30</td></tr><tr><td>40</td></tr><tr><td>40</td></tr><tr><td>40</td></tr><tr><td>40</td></tr><tr><td>35</td></tr><tr><td>36</td></tr><tr><td>40</td></tr><tr><td>40</td></tr><tr><td>30</td></tr><tr><td>50</td></tr><tr><td>40</td></tr><tr><td>40</td></tr><tr><td>23</td></tr><tr><td>55</td></tr><tr><td>70</td></tr><tr><td>12</td></tr><tr><td>40</td></tr><tr><td>50</td></tr><tr><td>32</td></tr><tr><td>40</td></tr><tr><td>40</td></tr><tr><td>40</td></tr><tr><td>40</td></tr><tr><td>48</td></tr><tr><td>48</td></tr><tr><td>40</td></tr><tr><td>40</td></tr><tr><td>60</td></tr><tr><td>45</td></tr><tr><td>40</td></tr><tr><td>35</td></tr><tr><td>40</td></tr><tr><td>40</td></tr><tr><td>40</td></tr><tr><td>55</td></tr><tr><td>44</td></tr><tr><td>49</td></tr><tr><td>16</td></tr><tr><td>40</td></tr><tr><td>35</td></tr><tr><td>56</td></tr><tr><td>40</td></tr><tr><td>40</td></tr><tr><td>40</td></tr><tr><td>40</td></tr><tr><td>55</td></tr><tr><td>35</td></tr><tr><td>40</td></tr><tr><td>40</td></tr><tr><td>40</td></tr><tr><td>40</td></tr><tr><td>50</td></tr><tr><td>40</td></tr><tr><td>60</td></tr><tr><td>40</td></tr><tr><td>40</td></tr><tr><td>40</td></tr><tr><td>80</td></tr><tr><td>45</td></tr><tr><td>40</td></tr><tr><td>40</td></tr><tr><td>37</td></tr><tr><td>40</td></tr><tr><td>67</td></tr><tr><td>60</td></tr><tr><td>60</td></tr><tr><td>20</td></tr><tr><td>45</td></tr><tr><td>40</td></tr><tr><td>40</td></tr><tr><td>40</td></tr><tr><td>42</td></tr><tr><td>40</td></tr><tr><td>45</td></tr><tr><td>35</td></tr><tr><td>25</td></tr><tr><td>40</td></tr><tr><td>40</td></tr><tr><td>40</td></tr><tr><td>40</td></tr><tr><td>52</td></tr><tr><td>20</td></tr><tr><td>15</td></tr><tr><td>40</td></tr><tr><td>45</td></tr><tr><td>40</td></tr></tbody></table></div>"
            ]
          },
          "metadata": {
            "tags": []
          }
        }
      ]
    },
    {
      "cell_type": "code",
      "metadata": {
        "id": "toYXJxo9vaCm",
        "outputId": "21f43dd3-cc83-43e7-a8d3-0174f3a183d1"
      },
      "source": [
        "#boxplot\n",
        "display(data.select('age'))"
      ],
      "execution_count": null,
      "outputs": [
        {
          "output_type": "display_data",
          "data": {
            "text/html": [
              "<style scoped>\n",
              "  .table-result-container {\n",
              "    max-height: 300px;\n",
              "    overflow: auto;\n",
              "  }\n",
              "  table, th, td {\n",
              "    border: 1px solid black;\n",
              "    border-collapse: collapse;\n",
              "  }\n",
              "  th, td {\n",
              "    padding: 5px;\n",
              "  }\n",
              "  th {\n",
              "    text-align: left;\n",
              "  }\n",
              "</style><div class='table-result-container'><table class='table-result'><thead style='background-color: white'><tr><th>age</th></tr></thead><tbody><tr><td>25</td></tr><tr><td>38</td></tr><tr><td>28</td></tr><tr><td>44</td></tr><tr><td>18</td></tr><tr><td>34</td></tr><tr><td>29</td></tr><tr><td>63</td></tr><tr><td>24</td></tr><tr><td>55</td></tr><tr><td>65</td></tr><tr><td>36</td></tr><tr><td>26</td></tr><tr><td>58</td></tr><tr><td>48</td></tr><tr><td>43</td></tr><tr><td>20</td></tr><tr><td>43</td></tr><tr><td>37</td></tr><tr><td>40</td></tr><tr><td>34</td></tr><tr><td>34</td></tr><tr><td>72</td></tr><tr><td>25</td></tr><tr><td>25</td></tr><tr><td>45</td></tr><tr><td>22</td></tr><tr><td>23</td></tr><tr><td>54</td></tr><tr><td>32</td></tr><tr><td>46</td></tr><tr><td>56</td></tr><tr><td>24</td></tr><tr><td>23</td></tr><tr><td>26</td></tr><tr><td>65</td></tr><tr><td>36</td></tr><tr><td>22</td></tr><tr><td>17</td></tr><tr><td>20</td></tr><tr><td>65</td></tr><tr><td>44</td></tr><tr><td>36</td></tr><tr><td>29</td></tr><tr><td>20</td></tr><tr><td>28</td></tr><tr><td>39</td></tr><tr><td>54</td></tr><tr><td>52</td></tr><tr><td>56</td></tr><tr><td>18</td></tr><tr><td>39</td></tr><tr><td>21</td></tr><tr><td>22</td></tr><tr><td>38</td></tr><tr><td>21</td></tr><tr><td>63</td></tr><tr><td>34</td></tr><tr><td>42</td></tr><tr><td>33</td></tr><tr><td>30</td></tr><tr><td>39</td></tr><tr><td>26</td></tr><tr><td>33</td></tr><tr><td>47</td></tr><tr><td>41</td></tr><tr><td>41</td></tr><tr><td>19</td></tr><tr><td>46</td></tr><tr><td>43</td></tr><tr><td>55</td></tr><tr><td>46</td></tr><tr><td>30</td></tr><tr><td>21</td></tr><tr><td>46</td></tr><tr><td>17</td></tr><tr><td>41</td></tr><tr><td>69</td></tr><tr><td>50</td></tr><tr><td>20</td></tr><tr><td>45</td></tr><tr><td>23</td></tr><tr><td>24</td></tr><tr><td>44</td></tr><tr><td>31</td></tr><tr><td>43</td></tr><tr><td>20</td></tr><tr><td>55</td></tr><tr><td>24</td></tr><tr><td>41</td></tr><tr><td>59</td></tr><tr><td>49</td></tr><tr><td>33</td></tr><tr><td>59</td></tr><tr><td>34</td></tr><tr><td>20</td></tr><tr><td>25</td></tr><tr><td>49</td></tr><tr><td>59</td></tr><tr><td>20</td></tr><tr><td>51</td></tr><tr><td>33</td></tr><tr><td>22</td></tr><tr><td>58</td></tr><tr><td>52</td></tr><tr><td>36</td></tr><tr><td>41</td></tr><tr><td>28</td></tr><tr><td>19</td></tr><tr><td>18</td></tr><tr><td>18</td></tr><tr><td>28</td></tr><tr><td>29</td></tr><tr><td>20</td></tr><tr><td>40</td></tr><tr><td>26</td></tr><tr><td>46</td></tr><tr><td>23</td></tr><tr><td>44</td></tr><tr><td>43</td></tr><tr><td>31</td></tr><tr><td>18</td></tr><tr><td>19</td></tr><tr><td>41</td></tr><tr><td>41</td></tr><tr><td>69</td></tr><tr><td>48</td></tr><tr><td>28</td></tr><tr><td>27</td></tr><tr><td>41</td></tr><tr><td>41</td></tr><tr><td>24</td></tr><tr><td>20</td></tr><tr><td>42</td></tr><tr><td>57</td></tr><tr><td>30</td></tr><tr><td>36</td></tr><tr><td>49</td></tr><tr><td>33</td></tr><tr><td>23</td></tr><tr><td>46</td></tr><tr><td>18</td></tr><tr><td>40</td></tr><tr><td>43</td></tr><tr><td>34</td></tr><tr><td>47</td></tr><tr><td>44</td></tr><tr><td>33</td></tr><tr><td>55</td></tr><tr><td>19</td></tr><tr><td>28</td></tr><tr><td>27</td></tr><tr><td>50</td></tr><tr><td>22</td></tr><tr><td>40</td></tr><tr><td>25</td></tr><tr><td>26</td></tr><tr><td>22</td></tr><tr><td>42</td></tr><tr><td>38</td></tr><tr><td>55</td></tr><tr><td>32</td></tr><tr><td>22</td></tr><tr><td>29</td></tr><tr><td>46</td></tr><tr><td>31</td></tr><tr><td>58</td></tr><tr><td>42</td></tr><tr><td>18</td></tr><tr><td>58</td></tr><tr><td>54</td></tr><tr><td>34</td></tr><tr><td>26</td></tr><tr><td>61</td></tr><tr><td>48</td></tr><tr><td>36</td></tr><tr><td>24</td></tr><tr><td>40</td></tr><tr><td>33</td></tr><tr><td>37</td></tr><tr><td>34</td></tr><tr><td>56</td></tr><tr><td>28</td></tr><tr><td>37</td></tr><tr><td>44</td></tr><tr><td>64</td></tr><tr><td>54</td></tr><tr><td>23</td></tr><tr><td>34</td></tr><tr><td>22</td></tr><tr><td>33</td></tr><tr><td>39</td></tr><tr><td>47</td></tr><tr><td>79</td></tr><tr><td>26</td></tr><tr><td>31</td></tr><tr><td>44</td></tr><tr><td>42</td></tr><tr><td>19</td></tr><tr><td>27</td></tr><tr><td>51</td></tr><tr><td>28</td></tr><tr><td>57</td></tr><tr><td>45</td></tr><tr><td>50</td></tr><tr><td>34</td></tr><tr><td>45</td></tr><tr><td>73</td></tr><tr><td>34</td></tr><tr><td>31</td></tr><tr><td>19</td></tr><tr><td>25</td></tr><tr><td>38</td></tr><tr><td>39</td></tr><tr><td>23</td></tr><tr><td>49</td></tr><tr><td>33</td></tr><tr><td>21</td></tr><tr><td>31</td></tr><tr><td>23</td></tr><tr><td>34</td></tr><tr><td>25</td></tr><tr><td>39</td></tr><tr><td>52</td></tr><tr><td>63</td></tr><tr><td>41</td></tr><tr><td>46</td></tr><tr><td>53</td></tr><tr><td>25</td></tr><tr><td>77</td></tr><tr><td>18</td></tr><tr><td>38</td></tr><tr><td>55</td></tr><tr><td>34</td></tr><tr><td>80</td></tr><tr><td>34</td></tr><tr><td>52</td></tr><tr><td>42</td></tr><tr><td>26</td></tr><tr><td>31</td></tr><tr><td>25</td></tr><tr><td>55</td></tr><tr><td>19</td></tr><tr><td>62</td></tr><tr><td>22</td></tr><tr><td>39</td></tr><tr><td>35</td></tr><tr><td>28</td></tr><tr><td>47</td></tr><tr><td>44</td></tr><tr><td>21</td></tr><tr><td>35</td></tr><tr><td>24</td></tr><tr><td>42</td></tr><tr><td>28</td></tr><tr><td>21</td></tr><tr><td>62</td></tr><tr><td>39</td></tr><tr><td>30</td></tr><tr><td>72</td></tr><tr><td>50</td></tr><tr><td>28</td></tr><tr><td>29</td></tr><tr><td>26</td></tr><tr><td>27</td></tr><tr><td>29</td></tr><tr><td>61</td></tr><tr><td>29</td></tr><tr><td>21</td></tr><tr><td>31</td></tr><tr><td>25</td></tr><tr><td>58</td></tr><tr><td>64</td></tr><tr><td>46</td></tr><tr><td>53</td></tr><tr><td>19</td></tr><tr><td>42</td></tr><tr><td>18</td></tr><tr><td>58</td></tr><tr><td>20</td></tr><tr><td>35</td></tr><tr><td>32</td></tr><tr><td>23</td></tr><tr><td>31</td></tr><tr><td>33</td></tr><tr><td>41</td></tr><tr><td>22</td></tr><tr><td>46</td></tr><tr><td>61</td></tr><tr><td>30</td></tr><tr><td>42</td></tr><tr><td>63</td></tr><tr><td>26</td></tr><tr><td>42</td></tr><tr><td>23</td></tr><tr><td>25</td></tr><tr><td>30</td></tr><tr><td>23</td></tr><tr><td>34</td></tr><tr><td>30</td></tr><tr><td>39</td></tr><tr><td>30</td></tr><tr><td>38</td></tr><tr><td>26</td></tr><tr><td>20</td></tr><tr><td>37</td></tr><tr><td>33</td></tr><tr><td>24</td></tr><tr><td>42</td></tr><tr><td>51</td></tr><tr><td>56</td></tr><tr><td>22</td></tr><tr><td>52</td></tr><tr><td>44</td></tr><tr><td>34</td></tr><tr><td>51</td></tr><tr><td>20</td></tr><tr><td>19</td></tr><tr><td>37</td></tr><tr><td>68</td></tr><tr><td>22</td></tr><tr><td>56</td></tr><tr><td>37</td></tr><tr><td>52</td></tr><tr><td>26</td></tr><tr><td>33</td></tr><tr><td>45</td></tr><tr><td>18</td></tr><tr><td>43</td></tr><tr><td>64</td></tr><tr><td>18</td></tr><tr><td>20</td></tr><tr><td>57</td></tr><tr><td>41</td></tr><tr><td>34</td></tr><tr><td>19</td></tr><tr><td>44</td></tr><tr><td>56</td></tr><tr><td>36</td></tr><tr><td>48</td></tr><tr><td>29</td></tr><tr><td>33</td></tr><tr><td>31</td></tr><tr><td>39</td></tr><tr><td>66</td></tr><tr><td>27</td></tr><tr><td>39</td></tr><tr><td>59</td></tr><tr><td>26</td></tr><tr><td>31</td></tr><tr><td>45</td></tr><tr><td>23</td></tr><tr><td>36</td></tr><tr><td>34</td></tr><tr><td>32</td></tr><tr><td>37</td></tr><tr><td>33</td></tr><tr><td>50</td></tr><tr><td>32</td></tr><tr><td>35</td></tr><tr><td>37</td></tr><tr><td>44</td></tr><tr><td>57</td></tr><tr><td>29</td></tr><tr><td>55</td></tr><tr><td>43</td></tr><tr><td>43</td></tr><tr><td>45</td></tr><tr><td>33</td></tr><tr><td>26</td></tr><tr><td>23</td></tr><tr><td>41</td></tr><tr><td>24</td></tr><tr><td>47</td></tr><tr><td>34</td></tr><tr><td>40</td></tr><tr><td>28</td></tr><tr><td>24</td></tr><tr><td>73</td></tr><tr><td>23</td></tr><tr><td>43</td></tr><tr><td>26</td></tr><tr><td>58</td></tr><tr><td>52</td></tr><tr><td>29</td></tr><tr><td>47</td></tr><tr><td>49</td></tr><tr><td>40</td></tr><tr><td>62</td></tr><tr><td>49</td></tr><tr><td>50</td></tr><tr><td>31</td></tr><tr><td>48</td></tr><tr><td>24</td></tr><tr><td>41</td></tr><tr><td>37</td></tr><tr><td>45</td></tr><tr><td>63</td></tr><tr><td>36</td></tr><tr><td>45</td></tr><tr><td>41</td></tr><tr><td>26</td></tr><tr><td>17</td></tr><tr><td>27</td></tr><tr><td>43</td></tr><tr><td>35</td></tr><tr><td>38</td></tr><tr><td>26</td></tr><tr><td>28</td></tr><tr><td>38</td></tr><tr><td>36</td></tr><tr><td>33</td></tr><tr><td>19</td></tr><tr><td>22</td></tr><tr><td>42</td></tr><tr><td>50</td></tr><tr><td>30</td></tr><tr><td>37</td></tr><tr><td>54</td></tr><tr><td>52</td></tr><tr><td>65</td></tr><tr><td>33</td></tr><tr><td>25</td></tr><tr><td>24</td></tr><tr><td>26</td></tr><tr><td>39</td></tr><tr><td>59</td></tr><tr><td>29</td></tr><tr><td>47</td></tr><tr><td>23</td></tr><tr><td>64</td></tr><tr><td>21</td></tr><tr><td>32</td></tr><tr><td>26</td></tr><tr><td>19</td></tr><tr><td>62</td></tr><tr><td>32</td></tr><tr><td>75</td></tr><tr><td>45</td></tr><tr><td>31</td></tr><tr><td>32</td></tr><tr><td>24</td></tr><tr><td>25</td></tr><tr><td>41</td></tr><tr><td>18</td></tr><tr><td>44</td></tr><tr><td>40</td></tr><tr><td>27</td></tr><tr><td>23</td></tr><tr><td>21</td></tr><tr><td>37</td></tr><tr><td>65</td></tr><tr><td>43</td></tr><tr><td>45</td></tr><tr><td>24</td></tr><tr><td>24</td></tr><tr><td>19</td></tr><tr><td>37</td></tr><tr><td>24</td></tr><tr><td>34</td></tr><tr><td>50</td></tr><tr><td>36</td></tr><tr><td>39</td></tr><tr><td>44</td></tr><tr><td>45</td></tr><tr><td>32</td></tr><tr><td>47</td></tr><tr><td>50</td></tr><tr><td>32</td></tr><tr><td>19</td></tr><tr><td>19</td></tr><tr><td>28</td></tr><tr><td>28</td></tr><tr><td>39</td></tr><tr><td>21</td></tr><tr><td>73</td></tr><tr><td>39</td></tr><tr><td>25</td></tr><tr><td>31</td></tr><tr><td>51</td></tr><tr><td>39</td></tr><tr><td>31</td></tr><tr><td>21</td></tr><tr><td>46</td></tr><tr><td>73</td></tr><tr><td>41</td></tr><tr><td>20</td></tr><tr><td>27</td></tr><tr><td>24</td></tr><tr><td>20</td></tr><tr><td>39</td></tr><tr><td>27</td></tr><tr><td>33</td></tr><tr><td>33</td></tr><tr><td>36</td></tr><tr><td>55</td></tr><tr><td>19</td></tr><tr><td>35</td></tr><tr><td>34</td></tr><tr><td>62</td></tr><tr><td>33</td></tr><tr><td>39</td></tr><tr><td>36</td></tr><tr><td>41</td></tr><tr><td>39</td></tr><tr><td>38</td></tr><tr><td>18</td></tr><tr><td>61</td></tr><tr><td>20</td></tr><tr><td>35</td></tr><tr><td>27</td></tr><tr><td>66</td></tr><tr><td>21</td></tr><tr><td>20</td></tr><tr><td>34</td></tr><tr><td>63</td></tr><tr><td>20</td></tr><tr><td>31</td></tr><tr><td>41</td></tr><tr><td>64</td></tr><tr><td>32</td></tr><tr><td>30</td></tr><tr><td>36</td></tr><tr><td>22</td></tr><tr><td>53</td></tr><tr><td>50</td></tr><tr><td>36</td></tr><tr><td>41</td></tr><tr><td>55</td></tr><tr><td>38</td></tr><tr><td>28</td></tr><tr><td>24</td></tr><tr><td>60</td></tr><tr><td>54</td></tr><tr><td>27</td></tr><tr><td>30</td></tr><tr><td>54</td></tr><tr><td>44</td></tr><tr><td>52</td></tr><tr><td>18</td></tr><tr><td>55</td></tr><tr><td>35</td></tr><tr><td>37</td></tr><tr><td>22</td></tr><tr><td>45</td></tr><tr><td>38</td></tr><tr><td>48</td></tr><tr><td>35</td></tr><tr><td>21</td></tr><tr><td>37</td></tr><tr><td>18</td></tr><tr><td>26</td></tr><tr><td>48</td></tr><tr><td>51</td></tr><tr><td>52</td></tr><tr><td>32</td></tr><tr><td>39</td></tr><tr><td>51</td></tr><tr><td>54</td></tr><tr><td>21</td></tr><tr><td>43</td></tr><tr><td>32</td></tr><tr><td>31</td></tr><tr><td>73</td></tr><tr><td>26</td></tr><tr><td>35</td></tr><tr><td>73</td></tr><tr><td>25</td></tr><tr><td>58</td></tr><tr><td>32</td></tr><tr><td>28</td></tr><tr><td>41</td></tr><tr><td>53</td></tr><tr><td>49</td></tr><tr><td>55</td></tr><tr><td>29</td></tr><tr><td>28</td></tr><tr><td>44</td></tr><tr><td>41</td></tr><tr><td>26</td></tr><tr><td>23</td></tr><tr><td>37</td></tr><tr><td>23</td></tr><tr><td>33</td></tr><tr><td>44</td></tr><tr><td>21</td></tr><tr><td>36</td></tr><tr><td>44</td></tr><tr><td>23</td></tr><tr><td>26</td></tr><tr><td>32</td></tr><tr><td>31</td></tr><tr><td>50</td></tr><tr><td>18</td></tr><tr><td>49</td></tr><tr><td>59</td></tr><tr><td>38</td></tr><tr><td>50</td></tr><tr><td>51</td></tr><tr><td>22</td></tr><tr><td>54</td></tr><tr><td>37</td></tr><tr><td>31</td></tr><tr><td>67</td></tr><tr><td>43</td></tr><tr><td>21</td></tr><tr><td>30</td></tr><tr><td>32</td></tr><tr><td>36</td></tr><tr><td>33</td></tr><tr><td>37</td></tr><tr><td>29</td></tr><tr><td>18</td></tr><tr><td>26</td></tr><tr><td>51</td></tr><tr><td>39</td></tr><tr><td>18</td></tr><tr><td>52</td></tr><tr><td>31</td></tr><tr><td>45</td></tr><tr><td>38</td></tr><tr><td>21</td></tr><tr><td>33</td></tr><tr><td>39</td></tr><tr><td>31</td></tr><tr><td>43</td></tr><tr><td>64</td></tr><tr><td>33</td></tr><tr><td>49</td></tr><tr><td>41</td></tr><tr><td>55</td></tr><tr><td>52</td></tr><tr><td>42</td></tr><tr><td>24</td></tr><tr><td>42</td></tr><tr><td>41</td></tr><tr><td>35</td></tr><tr><td>71</td></tr><tr><td>54</td></tr><tr><td>24</td></tr><tr><td>59</td></tr><tr><td>30</td></tr><tr><td>57</td></tr><tr><td>58</td></tr><tr><td>32</td></tr><tr><td>22</td></tr><tr><td>20</td></tr><tr><td>60</td></tr><tr><td>51</td></tr><tr><td>26</td></tr><tr><td>33</td></tr><tr><td>19</td></tr><tr><td>50</td></tr><tr><td>32</td></tr><tr><td>51</td></tr><tr><td>18</td></tr><tr><td>35</td></tr><tr><td>22</td></tr><tr><td>46</td></tr><tr><td>37</td></tr><tr><td>45</td></tr><tr><td>63</td></tr><tr><td>53</td></tr><tr><td>24</td></tr><tr><td>65</td></tr><tr><td>43</td></tr><tr><td>47</td></tr><tr><td>41</td></tr><tr><td>27</td></tr><tr><td>35</td></tr><tr><td>19</td></tr><tr><td>47</td></tr><tr><td>25</td></tr><tr><td>59</td></tr><tr><td>28</td></tr><tr><td>17</td></tr><tr><td>21</td></tr><tr><td>31</td></tr><tr><td>49</td></tr><tr><td>48</td></tr><tr><td>60</td></tr><tr><td>33</td></tr><tr><td>40</td></tr><tr><td>42</td></tr><tr><td>34</td></tr><tr><td>38</td></tr><tr><td>58</td></tr><tr><td>20</td></tr><tr><td>52</td></tr><tr><td>22</td></tr><tr><td>24</td></tr><tr><td>39</td></tr><tr><td>41</td></tr><tr><td>37</td></tr><tr><td>56</td></tr><tr><td>21</td></tr><tr><td>29</td></tr><tr><td>45</td></tr><tr><td>44</td></tr><tr><td>54</td></tr><tr><td>24</td></tr><tr><td>40</td></tr><tr><td>43</td></tr><tr><td>20</td></tr><tr><td>41</td></tr><tr><td>32</td></tr><tr><td>31</td></tr><tr><td>26</td></tr><tr><td>50</td></tr><tr><td>62</td></tr><tr><td>24</td></tr><tr><td>58</td></tr><tr><td>44</td></tr><tr><td>44</td></tr><tr><td>37</td></tr><tr><td>65</td></tr><tr><td>33</td></tr><tr><td>34</td></tr><tr><td>56</td></tr><tr><td>35</td></tr><tr><td>33</td></tr><tr><td>35</td></tr><tr><td>47</td></tr><tr><td>35</td></tr><tr><td>56</td></tr><tr><td>29</td></tr><tr><td>53</td></tr><tr><td>42</td></tr><tr><td>20</td></tr><tr><td>24</td></tr><tr><td>33</td></tr><tr><td>42</td></tr><tr><td>38</td></tr><tr><td>32</td></tr><tr><td>20</td></tr><tr><td>32</td></tr><tr><td>28</td></tr><tr><td>51</td></tr><tr><td>41</td></tr><tr><td>37</td></tr><tr><td>23</td></tr><tr><td>40</td></tr><tr><td>47</td></tr><tr><td>46</td></tr><tr><td>24</td></tr><tr><td>40</td></tr><tr><td>30</td></tr><tr><td>41</td></tr><tr><td>37</td></tr><tr><td>49</td></tr><tr><td>41</td></tr><tr><td>52</td></tr><tr><td>23</td></tr><tr><td>34</td></tr><tr><td>25</td></tr><tr><td>44</td></tr><tr><td>31</td></tr><tr><td>53</td></tr><tr><td>62</td></tr><tr><td>35</td></tr><tr><td>30</td></tr><tr><td>48</td></tr><tr><td>36</td></tr><tr><td>32</td></tr><tr><td>22</td></tr><tr><td>17</td></tr><tr><td>19</td></tr><tr><td>26</td></tr><tr><td>20</td></tr><tr><td>56</td></tr><tr><td>45</td></tr><tr><td>23</td></tr><tr><td>31</td></tr><tr><td>30</td></tr><tr><td>42</td></tr><tr><td>27</td></tr><tr><td>37</td></tr><tr><td>31</td></tr><tr><td>33</td></tr><tr><td>64</td></tr><tr><td>32</td></tr><tr><td>62</td></tr><tr><td>37</td></tr><tr><td>25</td></tr><tr><td>49</td></tr><tr><td>36</td></tr><tr><td>67</td></tr><tr><td>54</td></tr><tr><td>45</td></tr><tr><td>30</td></tr><tr><td>39</td></tr><tr><td>57</td></tr><tr><td>57</td></tr><tr><td>23</td></tr><tr><td>49</td></tr><tr><td>46</td></tr><tr><td>41</td></tr><tr><td>44</td></tr><tr><td>25</td></tr><tr><td>34</td></tr><tr><td>24</td></tr><tr><td>32</td></tr><tr><td>27</td></tr><tr><td>67</td></tr><tr><td>36</td></tr><tr><td>40</td></tr><tr><td>24</td></tr><tr><td>46</td></tr><tr><td>44</td></tr><tr><td>23</td></tr><tr><td>46</td></tr><tr><td>31</td></tr><tr><td>21</td></tr><tr><td>61</td></tr><tr><td>71</td></tr><tr><td>42</td></tr><tr><td>27</td></tr><tr><td>21</td></tr><tr><td>21</td></tr><tr><td>28</td></tr><tr><td>27</td></tr><tr><td>32</td></tr><tr><td>47</td></tr><tr><td>22</td></tr><tr><td>56</td></tr><tr><td>20</td></tr><tr><td>30</td></tr><tr><td>22</td></tr><tr><td>28</td></tr><tr><td>50</td></tr><tr><td>66</td></tr><tr><td>38</td></tr><tr><td>62</td></tr><tr><td>36</td></tr><tr><td>47</td></tr><tr><td>25</td></tr><tr><td>26</td></tr><tr><td>37</td></tr><tr><td>70</td></tr><tr><td>52</td></tr><tr><td>70</td></tr><tr><td>19</td></tr><tr><td>23</td></tr><tr><td>37</td></tr><tr><td>37</td></tr><tr><td>45</td></tr><tr><td>29</td></tr><tr><td>56</td></tr><tr><td>50</td></tr><tr><td>20</td></tr><tr><td>26</td></tr><tr><td>41</td></tr><tr><td>21</td></tr><tr><td>48</td></tr><tr><td>22</td></tr><tr><td>37</td></tr><tr><td>47</td></tr><tr><td>61</td></tr><tr><td>47</td></tr><tr><td>37</td></tr><tr><td>46</td></tr><tr><td>42</td></tr><tr><td>41</td></tr><tr><td>33</td></tr><tr><td>24</td></tr><tr><td>27</td></tr><tr><td>40</td></tr><tr><td>56</td></tr><tr><td>35</td></tr><tr><td>24</td></tr><tr><td>73</td></tr><tr><td>36</td></tr><tr><td>31</td></tr><tr><td>50</td></tr><tr><td>36</td></tr><tr><td>37</td></tr><tr><td>26</td></tr><tr><td>20</td></tr><tr><td>58</td></tr><tr><td>45</td></tr><tr><td>33</td></tr><tr><td>31</td></tr><tr><td>44</td></tr><tr><td>19</td></tr><tr><td>54</td></tr><tr><td>31</td></tr><tr><td>27</td></tr><tr><td>36</td></tr><tr><td>47</td></tr><tr><td>35</td></tr><tr><td>42</td></tr><tr><td>45</td></tr><tr><td>70</td></tr><tr><td>27</td></tr><tr><td>36</td></tr><tr><td>23</td></tr><tr><td>25</td></tr><tr><td>45</td></tr><tr><td>24</td></tr><tr><td>90</td></tr><tr><td>50</td></tr><tr><td>37</td></tr><tr><td>31</td></tr><tr><td>17</td></tr><tr><td>26</td></tr><tr><td>41</td></tr><tr><td>50</td></tr><tr><td>45</td></tr><tr><td>54</td></tr><tr><td>54</td></tr><tr><td>38</td></tr><tr><td>22</td></tr><tr><td>43</td></tr><tr><td>19</td></tr><tr><td>30</td></tr><tr><td>31</td></tr><tr><td>42</td></tr><tr><td>48</td></tr><tr><td>56</td></tr><tr><td>21</td></tr><tr><td>45</td></tr><tr><td>37</td></tr><tr><td>38</td></tr><tr><td>34</td></tr><tr><td>29</td></tr><tr><td>24</td></tr><tr><td>79</td></tr><tr><td>35</td></tr><tr><td>39</td></tr><tr><td>73</td></tr><tr><td>57</td></tr><tr><td>35</td></tr><tr><td>60</td></tr><tr><td>19</td></tr><tr><td>54</td></tr><tr><td>53</td></tr><tr><td>23</td></tr><tr><td>57</td></tr><tr><td>27</td></tr><tr><td>25</td></tr><tr><td>38</td></tr><tr><td>48</td></tr><tr><td>24</td></tr><tr><td>67</td></tr><tr><td>20</td></tr><tr><td>38</td></tr><tr><td>54</td></tr><tr><td>20</td></tr><tr><td>57</td></tr><tr><td>34</td></tr><tr><td>34</td></tr><tr><td>80</td></tr><tr><td>40</td></tr><tr><td>19</td></tr><tr><td>35</td></tr><tr><td>21</td></tr><tr><td>59</td></tr><tr><td>53</td></tr><tr><td>41</td></tr><tr><td>59</td></tr><tr><td>21</td></tr><tr><td>52</td></tr><tr><td>48</td></tr><tr><td>24</td></tr><tr><td>49</td></tr><tr><td>19</td></tr><tr><td>50</td></tr><tr><td>39</td></tr><tr><td>25</td></tr><tr><td>66</td></tr><tr><td>30</td></tr><tr><td>49</td></tr><tr><td>40</td></tr><tr><td>38</td></tr><tr><td>25</td></tr><tr><td>51</td></tr><tr><td>23</td></tr><tr><td>60</td></tr><tr><td>44</td></tr><tr><td>53</td></tr><tr><td>66</td></tr><tr><td>18</td></tr><tr><td>44</td></tr><tr><td>38</td></tr><tr><td>30</td></tr><tr><td>36</td></tr><tr><td>38</td></tr><tr><td>31</td></tr><tr><td>26</td></tr><tr><td>23</td></tr><tr><td>58</td></tr><tr><td>44</td></tr><tr><td>59</td></tr><tr><td>36</td></tr><tr><td>42</td></tr><tr><td>17</td></tr><tr><td>59</td></tr><tr><td>22</td></tr><tr><td>40</td></tr><tr><td>36</td></tr></tbody></table></div>"
            ]
          },
          "metadata": {
            "tags": []
          }
        }
      ]
    },
    {
      "cell_type": "code",
      "metadata": {
        "id": "uq9Zc7IwvaDE",
        "outputId": "c7176be9-2022-4b18-fd39-674cd86d425f"
      },
      "source": [
        "#boxplot\n",
        "display(data.select('educational-num'))"
      ],
      "execution_count": null,
      "outputs": [
        {
          "output_type": "display_data",
          "data": {
            "text/html": [
              "<style scoped>\n",
              "  .table-result-container {\n",
              "    max-height: 300px;\n",
              "    overflow: auto;\n",
              "  }\n",
              "  table, th, td {\n",
              "    border: 1px solid black;\n",
              "    border-collapse: collapse;\n",
              "  }\n",
              "  th, td {\n",
              "    padding: 5px;\n",
              "  }\n",
              "  th {\n",
              "    text-align: left;\n",
              "  }\n",
              "</style><div class='table-result-container'><table class='table-result'><thead style='background-color: white'><tr><th>educational-num</th></tr></thead><tbody><tr><td>7</td></tr><tr><td>9</td></tr><tr><td>12</td></tr><tr><td>10</td></tr><tr><td>10</td></tr><tr><td>6</td></tr><tr><td>9</td></tr><tr><td>15</td></tr><tr><td>10</td></tr><tr><td>4</td></tr><tr><td>9</td></tr><tr><td>13</td></tr><tr><td>9</td></tr><tr><td>9</td></tr><tr><td>9</td></tr><tr><td>14</td></tr><tr><td>10</td></tr><tr><td>9</td></tr><tr><td>9</td></tr><tr><td>16</td></tr><tr><td>13</td></tr><tr><td>10</td></tr><tr><td>4</td></tr><tr><td>13</td></tr><tr><td>13</td></tr><tr><td>9</td></tr><tr><td>9</td></tr><tr><td>9</td></tr><tr><td>9</td></tr><tr><td>10</td></tr><tr><td>10</td></tr><tr><td>7</td></tr><tr><td>13</td></tr><tr><td>10</td></tr><tr><td>9</td></tr><tr><td>9</td></tr><tr><td>13</td></tr><tr><td>3</td></tr><tr><td>6</td></tr><tr><td>9</td></tr><tr><td>14</td></tr><tr><td>11</td></tr><tr><td>9</td></tr><tr><td>7</td></tr><tr><td>10</td></tr><tr><td>11</td></tr><tr><td>4</td></tr><tr><td>10</td></tr><tr><td>7</td></tr><tr><td>9</td></tr><tr><td>10</td></tr><tr><td>9</td></tr><tr><td>10</td></tr><tr><td>9</td></tr><tr><td>5</td></tr><tr><td>10</td></tr><tr><td>9</td></tr><tr><td>13</td></tr><tr><td>9</td></tr><tr><td>9</td></tr><tr><td>13</td></tr><tr><td>10</td></tr><tr><td>14</td></tr><tr><td>9</td></tr><tr><td>9</td></tr><tr><td>13</td></tr><tr><td>12</td></tr><tr><td>10</td></tr><tr><td>9</td></tr><tr><td>9</td></tr><tr><td>10</td></tr><tr><td>11</td></tr><tr><td>9</td></tr><tr><td>10</td></tr><tr><td>10</td></tr><tr><td>6</td></tr><tr><td>9</td></tr><tr><td>9</td></tr><tr><td>9</td></tr><tr><td>10</td></tr><tr><td>10</td></tr><tr><td>13</td></tr><tr><td>10</td></tr><tr><td>9</td></tr><tr><td>10</td></tr><tr><td>9</td></tr><tr><td>7</td></tr><tr><td>9</td></tr><tr><td>10</td></tr><tr><td>14</td></tr><tr><td>13</td></tr><tr><td>4</td></tr><tr><td>14</td></tr><tr><td>13</td></tr><tr><td>14</td></tr><tr><td>9</td></tr><tr><td>13</td></tr><tr><td>6</td></tr><tr><td>9</td></tr><tr><td>9</td></tr><tr><td>10</td></tr><tr><td>10</td></tr><tr><td>10</td></tr><tr><td>5</td></tr><tr><td>9</td></tr><tr><td>6</td></tr><tr><td>9</td></tr><tr><td>9</td></tr><tr><td>10</td></tr><tr><td>9</td></tr><tr><td>9</td></tr><tr><td>10</td></tr><tr><td>11</td></tr><tr><td>9</td></tr><tr><td>10</td></tr><tr><td>9</td></tr><tr><td>9</td></tr><tr><td>7</td></tr><tr><td>9</td></tr><tr><td>13</td></tr><tr><td>13</td></tr><tr><td>10</td></tr><tr><td>10</td></tr><tr><td>10</td></tr><tr><td>9</td></tr><tr><td>9</td></tr><tr><td>16</td></tr><tr><td>9</td></tr><tr><td>9</td></tr><tr><td>14</td></tr><tr><td>10</td></tr><tr><td>9</td></tr><tr><td>9</td></tr><tr><td>16</td></tr><tr><td>9</td></tr><tr><td>12</td></tr><tr><td>9</td></tr><tr><td>4</td></tr><tr><td>9</td></tr><tr><td>6</td></tr><tr><td>14</td></tr><tr><td>10</td></tr><tr><td>9</td></tr><tr><td>9</td></tr><tr><td>14</td></tr><tr><td>9</td></tr><tr><td>11</td></tr><tr><td>9</td></tr><tr><td>13</td></tr><tr><td>9</td></tr><tr><td>10</td></tr><tr><td>7</td></tr><tr><td>4</td></tr><tr><td>7</td></tr><tr><td>13</td></tr><tr><td>10</td></tr><tr><td>9</td></tr><tr><td>13</td></tr><tr><td>10</td></tr><tr><td>13</td></tr><tr><td>7</td></tr><tr><td>9</td></tr><tr><td>9</td></tr><tr><td>13</td></tr><tr><td>14</td></tr><tr><td>10</td></tr><tr><td>16</td></tr><tr><td>9</td></tr><tr><td>9</td></tr><tr><td>9</td></tr><tr><td>9</td></tr><tr><td>14</td></tr><tr><td>13</td></tr><tr><td>8</td></tr><tr><td>14</td></tr><tr><td>10</td></tr><tr><td>11</td></tr><tr><td>10</td></tr><tr><td>9</td></tr><tr><td>10</td></tr><tr><td>14</td></tr><tr><td>10</td></tr><tr><td>9</td></tr><tr><td>13</td></tr><tr><td>9</td></tr><tr><td>10</td></tr><tr><td>9</td></tr><tr><td>9</td></tr><tr><td>13</td></tr><tr><td>9</td></tr><tr><td>13</td></tr><tr><td>13</td></tr><tr><td>10</td></tr><tr><td>4</td></tr><tr><td>9</td></tr><tr><td>10</td></tr><tr><td>10</td></tr><tr><td>15</td></tr><tr><td>9</td></tr><tr><td>9</td></tr><tr><td>10</td></tr><tr><td>13</td></tr><tr><td>13</td></tr><tr><td>13</td></tr><tr><td>11</td></tr><tr><td>13</td></tr><tr><td>4</td></tr><tr><td>9</td></tr><tr><td>13</td></tr><tr><td>10</td></tr><tr><td>7</td></tr><tr><td>10</td></tr><tr><td>11</td></tr><tr><td>13</td></tr><tr><td>13</td></tr><tr><td>9</td></tr><tr><td>9</td></tr><tr><td>3</td></tr><tr><td>11</td></tr><tr><td>13</td></tr><tr><td>13</td></tr><tr><td>9</td></tr><tr><td>9</td></tr><tr><td>9</td></tr><tr><td>5</td></tr><tr><td>10</td></tr><tr><td>13</td></tr><tr><td>9</td></tr><tr><td>5</td></tr><tr><td>10</td></tr><tr><td>8</td></tr><tr><td>15</td></tr><tr><td>14</td></tr><tr><td>9</td></tr><tr><td>9</td></tr><tr><td>11</td></tr><tr><td>10</td></tr><tr><td>9</td></tr><tr><td>10</td></tr><tr><td>9</td></tr><tr><td>9</td></tr><tr><td>9</td></tr><tr><td>10</td></tr><tr><td>10</td></tr><tr><td>10</td></tr><tr><td>9</td></tr><tr><td>9</td></tr><tr><td>9</td></tr><tr><td>9</td></tr><tr><td>9</td></tr><tr><td>10</td></tr><tr><td>11</td></tr><tr><td>13</td></tr><tr><td>13</td></tr><tr><td>13</td></tr><tr><td>10</td></tr><tr><td>10</td></tr><tr><td>9</td></tr><tr><td>9</td></tr><tr><td>15</td></tr><tr><td>10</td></tr><tr><td>14</td></tr><tr><td>10</td></tr><tr><td>13</td></tr><tr><td>14</td></tr><tr><td>10</td></tr><tr><td>9</td></tr><tr><td>6</td></tr><tr><td>10</td></tr><tr><td>7</td></tr><tr><td>9</td></tr><tr><td>6</td></tr><tr><td>10</td></tr><tr><td>14</td></tr><tr><td>9</td></tr><tr><td>9</td></tr><tr><td>9</td></tr><tr><td>7</td></tr><tr><td>13</td></tr><tr><td>10</td></tr><tr><td>9</td></tr><tr><td>9</td></tr><tr><td>9</td></tr><tr><td>10</td></tr><tr><td>13</td></tr><tr><td>10</td></tr><tr><td>9</td></tr><tr><td>10</td></tr><tr><td>10</td></tr><tr><td>9</td></tr><tr><td>9</td></tr><tr><td>6</td></tr><tr><td>10</td></tr><tr><td>6</td></tr><tr><td>10</td></tr><tr><td>9</td></tr><tr><td>5</td></tr><tr><td>9</td></tr><tr><td>11</td></tr><tr><td>9</td></tr><tr><td>10</td></tr><tr><td>7</td></tr><tr><td>10</td></tr><tr><td>9</td></tr><tr><td>10</td></tr><tr><td>13</td></tr><tr><td>9</td></tr><tr><td>13</td></tr><tr><td>13</td></tr><tr><td>9</td></tr><tr><td>12</td></tr><tr><td>10</td></tr><tr><td>10</td></tr><tr><td>13</td></tr><tr><td>9</td></tr><tr><td>10</td></tr><tr><td>10</td></tr><tr><td>10</td></tr><tr><td>13</td></tr><tr><td>9</td></tr><tr><td>10</td></tr><tr><td>13</td></tr><tr><td>9</td></tr><tr><td>2</td></tr><tr><td>9</td></tr><tr><td>14</td></tr><tr><td>14</td></tr><tr><td>7</td></tr><tr><td>10</td></tr><tr><td>16</td></tr><tr><td>9</td></tr><tr><td>10</td></tr><tr><td>9</td></tr><tr><td>9</td></tr><tr><td>14</td></tr><tr><td>9</td></tr><tr><td>5</td></tr><tr><td>6</td></tr><tr><td>9</td></tr><tr><td>13</td></tr><tr><td>9</td></tr><tr><td>13</td></tr><tr><td>3</td></tr><tr><td>14</td></tr><tr><td>9</td></tr><tr><td>13</td></tr><tr><td>9</td></tr><tr><td>4</td></tr><tr><td>9</td></tr><tr><td>11</td></tr><tr><td>9</td></tr><tr><td>9</td></tr><tr><td>9</td></tr><tr><td>10</td></tr><tr><td>9</td></tr><tr><td>13</td></tr><tr><td>13</td></tr><tr><td>15</td></tr><tr><td>12</td></tr><tr><td>13</td></tr><tr><td>7</td></tr><tr><td>10</td></tr><tr><td>10</td></tr><tr><td>10</td></tr><tr><td>9</td></tr><tr><td>15</td></tr><tr><td>10</td></tr><tr><td>10</td></tr><tr><td>14</td></tr><tr><td>6</td></tr><tr><td>10</td></tr><tr><td>4</td></tr><tr><td>9</td></tr><tr><td>13</td></tr><tr><td>9</td></tr><tr><td>9</td></tr><tr><td>13</td></tr><tr><td>9</td></tr><tr><td>10</td></tr><tr><td>9</td></tr><tr><td>9</td></tr><tr><td>13</td></tr><tr><td>16</td></tr><tr><td>9</td></tr><tr><td>7</td></tr><tr><td>7</td></tr><tr><td>9</td></tr><tr><td>7</td></tr><tr><td>9</td></tr><tr><td>9</td></tr><tr><td>13</td></tr><tr><td>9</td></tr><tr><td>14</td></tr><tr><td>9</td></tr><tr><td>9</td></tr><tr><td>9</td></tr><tr><td>13</td></tr><tr><td>9</td></tr><tr><td>14</td></tr><tr><td>13</td></tr><tr><td>13</td></tr><tr><td>12</td></tr><tr><td>7</td></tr><tr><td>9</td></tr><tr><td>9</td></tr><tr><td>9</td></tr><tr><td>13</td></tr><tr><td>9</td></tr><tr><td>10</td></tr><tr><td>13</td></tr><tr><td>7</td></tr><tr><td>9</td></tr><tr><td>9</td></tr><tr><td>12</td></tr><tr><td>6</td></tr><tr><td>6</td></tr><tr><td>9</td></tr><tr><td>10</td></tr><tr><td>15</td></tr><tr><td>13</td></tr><tr><td>2</td></tr><tr><td>9</td></tr><tr><td>10</td></tr><tr><td>13</td></tr><tr><td>11</td></tr><tr><td>9</td></tr><tr><td>9</td></tr><tr><td>10</td></tr><tr><td>7</td></tr><tr><td>10</td></tr><tr><td>9</td></tr><tr><td>9</td></tr><tr><td>10</td></tr><tr><td>9</td></tr><tr><td>10</td></tr><tr><td>14</td></tr><tr><td>13</td></tr><tr><td>6</td></tr><tr><td>9</td></tr><tr><td>13</td></tr><tr><td>9</td></tr><tr><td>13</td></tr><tr><td>13</td></tr><tr><td>9</td></tr><tr><td>10</td></tr><tr><td>16</td></tr><tr><td>10</td></tr><tr><td>13</td></tr><tr><td>13</td></tr><tr><td>10</td></tr><tr><td>9</td></tr><tr><td>9</td></tr><tr><td>14</td></tr><tr><td>9</td></tr><tr><td>13</td></tr><tr><td>10</td></tr><tr><td>10</td></tr><tr><td>13</td></tr><tr><td>9</td></tr><tr><td>10</td></tr><tr><td>9</td></tr><tr><td>9</td></tr><tr><td>13</td></tr><tr><td>4</td></tr><tr><td>9</td></tr><tr><td>7</td></tr><tr><td>14</td></tr><tr><td>9</td></tr><tr><td>11</td></tr><tr><td>9</td></tr><tr><td>10</td></tr><tr><td>14</td></tr><tr><td>9</td></tr><tr><td>14</td></tr><tr><td>10</td></tr><tr><td>10</td></tr><tr><td>4</td></tr><tr><td>10</td></tr><tr><td>10</td></tr><tr><td>10</td></tr><tr><td>13</td></tr><tr><td>13</td></tr><tr><td>10</td></tr><tr><td>13</td></tr><tr><td>9</td></tr><tr><td>9</td></tr><tr><td>9</td></tr><tr><td>12</td></tr><tr><td>13</td></tr><tr><td>10</td></tr><tr><td>11</td></tr><tr><td>13</td></tr><tr><td>7</td></tr><tr><td>9</td></tr><tr><td>5</td></tr><tr><td>10</td></tr><tr><td>10</td></tr><tr><td>9</td></tr><tr><td>3</td></tr><tr><td>15</td></tr><tr><td>10</td></tr><tr><td>5</td></tr><tr><td>10</td></tr><tr><td>13</td></tr><tr><td>9</td></tr><tr><td>9</td></tr><tr><td>9</td></tr><tr><td>10</td></tr><tr><td>11</td></tr><tr><td>9</td></tr><tr><td>9</td></tr><tr><td>6</td></tr><tr><td>9</td></tr><tr><td>10</td></tr><tr><td>10</td></tr><tr><td>3</td></tr><tr><td>9</td></tr><tr><td>9</td></tr><tr><td>16</td></tr><tr><td>2</td></tr><tr><td>13</td></tr><tr><td>9</td></tr><tr><td>13</td></tr><tr><td>10</td></tr><tr><td>10</td></tr><tr><td>9</td></tr><tr><td>13</td></tr><tr><td>7</td></tr><tr><td>13</td></tr><tr><td>13</td></tr><tr><td>13</td></tr><tr><td>13</td></tr><tr><td>10</td></tr><tr><td>6</td></tr><tr><td>9</td></tr><tr><td>14</td></tr><tr><td>9</td></tr><tr><td>10</td></tr><tr><td>9</td></tr><tr><td>7</td></tr><tr><td>4</td></tr><tr><td>13</td></tr><tr><td>13</td></tr><tr><td>10</td></tr><tr><td>13</td></tr><tr><td>13</td></tr><tr><td>13</td></tr><tr><td>11</td></tr><tr><td>11</td></tr><tr><td>9</td></tr><tr><td>7</td></tr><tr><td>6</td></tr><tr><td>13</td></tr><tr><td>10</td></tr><tr><td>10</td></tr><tr><td>13</td></tr><tr><td>13</td></tr><tr><td>13</td></tr><tr><td>13</td></tr><tr><td>10</td></tr><tr><td>9</td></tr><tr><td>10</td></tr><tr><td>14</td></tr><tr><td>9</td></tr><tr><td>10</td></tr><tr><td>9</td></tr><tr><td>3</td></tr><tr><td>13</td></tr><tr><td>11</td></tr><tr><td>9</td></tr><tr><td>13</td></tr><tr><td>14</td></tr><tr><td>9</td></tr><tr><td>9</td></tr><tr><td>13</td></tr><tr><td>10</td></tr><tr><td>11</td></tr><tr><td>9</td></tr><tr><td>14</td></tr><tr><td>11</td></tr><tr><td>9</td></tr><tr><td>13</td></tr><tr><td>13</td></tr><tr><td>10</td></tr><tr><td>9</td></tr><tr><td>10</td></tr><tr><td>7</td></tr><tr><td>13</td></tr><tr><td>9</td></tr><tr><td>9</td></tr><tr><td>3</td></tr><tr><td>10</td></tr><tr><td>9</td></tr><tr><td>10</td></tr><tr><td>13</td></tr><tr><td>9</td></tr><tr><td>9</td></tr><tr><td>10</td></tr><tr><td>10</td></tr><tr><td>10</td></tr><tr><td>9</td></tr><tr><td>9</td></tr><tr><td>13</td></tr><tr><td>13</td></tr><tr><td>7</td></tr><tr><td>10</td></tr><tr><td>9</td></tr><tr><td>10</td></tr><tr><td>11</td></tr><tr><td>13</td></tr><tr><td>9</td></tr><tr><td>15</td></tr><tr><td>10</td></tr><tr><td>10</td></tr><tr><td>4</td></tr><tr><td>9</td></tr><tr><td>9</td></tr><tr><td>8</td></tr><tr><td>10</td></tr><tr><td>13</td></tr><tr><td>10</td></tr><tr><td>12</td></tr><tr><td>9</td></tr><tr><td>10</td></tr><tr><td>9</td></tr><tr><td>13</td></tr><tr><td>13</td></tr><tr><td>13</td></tr><tr><td>9</td></tr><tr><td>9</td></tr><tr><td>10</td></tr><tr><td>10</td></tr><tr><td>13</td></tr><tr><td>10</td></tr><tr><td>9</td></tr><tr><td>13</td></tr><tr><td>9</td></tr><tr><td>3</td></tr><tr><td>14</td></tr><tr><td>3</td></tr><tr><td>9</td></tr><tr><td>7</td></tr><tr><td>13</td></tr><tr><td>14</td></tr><tr><td>9</td></tr><tr><td>9</td></tr><tr><td>9</td></tr><tr><td>13</td></tr><tr><td>9</td></tr><tr><td>9</td></tr><tr><td>7</td></tr><tr><td>6</td></tr><tr><td>9</td></tr><tr><td>9</td></tr><tr><td>13</td></tr><tr><td>10</td></tr><tr><td>14</td></tr><tr><td>10</td></tr><tr><td>9</td></tr><tr><td>9</td></tr><tr><td>10</td></tr><tr><td>5</td></tr><tr><td>9</td></tr><tr><td>9</td></tr><tr><td>7</td></tr><tr><td>12</td></tr><tr><td>9</td></tr><tr><td>9</td></tr><tr><td>9</td></tr><tr><td>9</td></tr><tr><td>10</td></tr><tr><td>10</td></tr><tr><td>13</td></tr><tr><td>15</td></tr><tr><td>6</td></tr><tr><td>6</td></tr><tr><td>10</td></tr><tr><td>9</td></tr><tr><td>9</td></tr><tr><td>14</td></tr><tr><td>16</td></tr><tr><td>8</td></tr><tr><td>9</td></tr><tr><td>10</td></tr><tr><td>9</td></tr><tr><td>11</td></tr><tr><td>10</td></tr><tr><td>10</td></tr><tr><td>10</td></tr><tr><td>10</td></tr><tr><td>13</td></tr><tr><td>9</td></tr><tr><td>14</td></tr><tr><td>10</td></tr><tr><td>5</td></tr><tr><td>9</td></tr><tr><td>9</td></tr><tr><td>11</td></tr><tr><td>10</td></tr><tr><td>14</td></tr><tr><td>10</td></tr><tr><td>13</td></tr><tr><td>13</td></tr><tr><td>10</td></tr><tr><td>7</td></tr><tr><td>11</td></tr><tr><td>13</td></tr><tr><td>9</td></tr><tr><td>13</td></tr><tr><td>11</td></tr><tr><td>9</td></tr><tr><td>13</td></tr><tr><td>10</td></tr><tr><td>8</td></tr><tr><td>10</td></tr><tr><td>4</td></tr><tr><td>9</td></tr><tr><td>9</td></tr><tr><td>14</td></tr><tr><td>14</td></tr><tr><td>13</td></tr><tr><td>13</td></tr><tr><td>10</td></tr><tr><td>5</td></tr><tr><td>10</td></tr><tr><td>14</td></tr><tr><td>15</td></tr><tr><td>11</td></tr><tr><td>10</td></tr><tr><td>13</td></tr><tr><td>9</td></tr><tr><td>6</td></tr><tr><td>10</td></tr><tr><td>9</td></tr><tr><td>4</td></tr><tr><td>9</td></tr><tr><td>10</td></tr><tr><td>9</td></tr><tr><td>9</td></tr><tr><td>12</td></tr><tr><td>9</td></tr><tr><td>9</td></tr><tr><td>6</td></tr><tr><td>9</td></tr><tr><td>13</td></tr><tr><td>9</td></tr><tr><td>9</td></tr><tr><td>15</td></tr><tr><td>13</td></tr><tr><td>9</td></tr><tr><td>13</td></tr><tr><td>11</td></tr><tr><td>10</td></tr><tr><td>9</td></tr><tr><td>13</td></tr><tr><td>9</td></tr><tr><td>9</td></tr><tr><td>13</td></tr><tr><td>9</td></tr><tr><td>13</td></tr><tr><td>13</td></tr><tr><td>9</td></tr><tr><td>13</td></tr><tr><td>7</td></tr><tr><td>10</td></tr><tr><td>7</td></tr><tr><td>9</td></tr><tr><td>9</td></tr><tr><td>10</td></tr><tr><td>10</td></tr><tr><td>4</td></tr><tr><td>10</td></tr><tr><td>9</td></tr><tr><td>7</td></tr><tr><td>9</td></tr><tr><td>15</td></tr><tr><td>13</td></tr><tr><td>9</td></tr><tr><td>13</td></tr><tr><td>1</td></tr><tr><td>9</td></tr><tr><td>9</td></tr><tr><td>10</td></tr><tr><td>7</td></tr><tr><td>9</td></tr><tr><td>13</td></tr><tr><td>10</td></tr><tr><td>9</td></tr><tr><td>16</td></tr><tr><td>10</td></tr><tr><td>9</td></tr><tr><td>6</td></tr><tr><td>6</td></tr><tr><td>9</td></tr><tr><td>9</td></tr><tr><td>13</td></tr><tr><td>13</td></tr><tr><td>11</td></tr><tr><td>13</td></tr><tr><td>13</td></tr><tr><td>13</td></tr><tr><td>13</td></tr><tr><td>9</td></tr><tr><td>8</td></tr><tr><td>9</td></tr><tr><td>10</td></tr><tr><td>9</td></tr><tr><td>13</td></tr><tr><td>9</td></tr><tr><td>10</td></tr><tr><td>15</td></tr><tr><td>11</td></tr><tr><td>10</td></tr><tr><td>9</td></tr><tr><td>9</td></tr><tr><td>13</td></tr><tr><td>10</td></tr><tr><td>10</td></tr><tr><td>1</td></tr><tr><td>13</td></tr><tr><td>12</td></tr><tr><td>10</td></tr><tr><td>9</td></tr><tr><td>12</td></tr><tr><td>9</td></tr><tr><td>9</td></tr><tr><td>10</td></tr><tr><td>10</td></tr><tr><td>11</td></tr><tr><td>14</td></tr><tr><td>9</td></tr><tr><td>10</td></tr><tr><td>8</td></tr><tr><td>14</td></tr><tr><td>6</td></tr><tr><td>9</td></tr><tr><td>10</td></tr><tr><td>7</td></tr><tr><td>4</td></tr><tr><td>7</td></tr><tr><td>5</td></tr><tr><td>9</td></tr><tr><td>7</td></tr><tr><td>13</td></tr><tr><td>7</td></tr><tr><td>10</td></tr><tr><td>13</td></tr><tr><td>13</td></tr><tr><td>14</td></tr><tr><td>9</td></tr><tr><td>13</td></tr><tr><td>15</td></tr><tr><td>9</td></tr><tr><td>3</td></tr><tr><td>10</td></tr><tr><td>12</td></tr><tr><td>10</td></tr><tr><td>13</td></tr><tr><td>14</td></tr><tr><td>9</td></tr><tr><td>11</td></tr><tr><td>9</td></tr><tr><td>9</td></tr><tr><td>5</td></tr><tr><td>13</td></tr><tr><td>12</td></tr><tr><td>13</td></tr><tr><td>6</td></tr><tr><td>16</td></tr><tr><td>11</td></tr><tr><td>10</td></tr><tr><td>10</td></tr><tr><td>13</td></tr><tr><td>9</td></tr><tr><td>9</td></tr><tr><td>9</td></tr><tr><td>13</td></tr><tr><td>9</td></tr><tr><td>13</td></tr><tr><td>13</td></tr><tr><td>13</td></tr><tr><td>13</td></tr><tr><td>15</td></tr><tr><td>10</td></tr><tr><td>9</td></tr><tr><td>14</td></tr><tr><td>9</td></tr><tr><td>10</td></tr><tr><td>10</td></tr><tr><td>13</td></tr><tr><td>2</td></tr><tr><td>13</td></tr><tr><td>9</td></tr><tr><td>8</td></tr><tr><td>9</td></tr><tr><td>9</td></tr><tr><td>13</td></tr><tr><td>10</td></tr><tr><td>9</td></tr><tr><td>12</td></tr><tr><td>9</td></tr><tr><td>9</td></tr><tr><td>10</td></tr><tr><td>7</td></tr><tr><td>10</td></tr><tr><td>16</td></tr><tr><td>9</td></tr><tr><td>9</td></tr><tr><td>10</td></tr><tr><td>9</td></tr><tr><td>9</td></tr><tr><td>9</td></tr><tr><td>9</td></tr><tr><td>9</td></tr><tr><td>13</td></tr><tr><td>5</td></tr><tr><td>9</td></tr><tr><td>10</td></tr><tr><td>10</td></tr><tr><td>10</td></tr><tr><td>13</td></tr><tr><td>15</td></tr><tr><td>13</td></tr><tr><td>10</td></tr><tr><td>9</td></tr><tr><td>9</td></tr><tr><td>14</td></tr><tr><td>12</td></tr><tr><td>6</td></tr><tr><td>4</td></tr><tr><td>11</td></tr><tr><td>13</td></tr><tr><td>9</td></tr><tr><td>10</td></tr><tr><td>9</td></tr><tr><td>13</td></tr><tr><td>10</td></tr><tr><td>10</td></tr><tr><td>6</td></tr><tr><td>9</td></tr><tr><td>9</td></tr><tr><td>10</td></tr><tr><td>9</td></tr><tr><td>10</td></tr><tr><td>9</td></tr><tr><td>16</td></tr><tr><td>4</td></tr><tr><td>10</td></tr><tr><td>6</td></tr><tr><td>13</td></tr><tr><td>9</td></tr><tr><td>9</td></tr><tr><td>9</td></tr><tr><td>7</td></tr><tr><td>10</td></tr><tr><td>9</td></tr><tr><td>7</td></tr><tr><td>10</td></tr><tr><td>11</td></tr><tr><td>9</td></tr><tr><td>10</td></tr><tr><td>2</td></tr><tr><td>3</td></tr><tr><td>8</td></tr><tr><td>15</td></tr><tr><td>9</td></tr><tr><td>9</td></tr><tr><td>12</td></tr><tr><td>9</td></tr><tr><td>4</td></tr><tr><td>10</td></tr><tr><td>14</td></tr><tr><td>10</td></tr><tr><td>6</td></tr><tr><td>7</td></tr><tr><td>9</td></tr><tr><td>13</td></tr><tr><td>5</td></tr><tr><td>9</td></tr><tr><td>15</td></tr><tr><td>13</td></tr><tr><td>9</td></tr><tr><td>11</td></tr><tr><td>9</td></tr><tr><td>13</td></tr><tr><td>9</td></tr><tr><td>10</td></tr><tr><td>13</td></tr><tr><td>7</td></tr><tr><td>10</td></tr><tr><td>13</td></tr><tr><td>13</td></tr><tr><td>15</td></tr><tr><td>10</td></tr><tr><td>10</td></tr><tr><td>7</td></tr><tr><td>6</td></tr><tr><td>10</td></tr><tr><td>13</td></tr><tr><td>13</td></tr></tbody></table></div>"
            ]
          },
          "metadata": {
            "tags": []
          }
        }
      ]
    },
    {
      "cell_type": "code",
      "metadata": {
        "id": "rtqmZv0lvaD4",
        "outputId": "6bf2de64-ff03-452c-a205-13c47d0a6902"
      },
      "source": [
        "#utilizando crosstab para contar a quantidade de indivíduos com que ganho mais de 50K pela idade\n",
        "data.crosstab('age', 'income').sort(\"age_income\").show()"
      ],
      "execution_count": null,
      "outputs": [
        {
          "output_type": "display_data",
          "data": {
            "text/html": [
              "<style scoped>\n",
              "  .ansiout {\n",
              "    display: block;\n",
              "    unicode-bidi: embed;\n",
              "    white-space: pre-wrap;\n",
              "    word-wrap: break-word;\n",
              "    word-break: break-all;\n",
              "    font-family: \"Source Code Pro\", \"Menlo\", monospace;;\n",
              "    font-size: 13px;\n",
              "    color: #555;\n",
              "    margin-left: 4px;\n",
              "    line-height: 19px;\n",
              "  }\n",
              "</style>\n",
              "<div class=\"ansiout\">+----------+-----+----+\n",
              "age_income|&lt;=50K|&gt;50K|\n",
              "+----------+-----+----+\n",
              "        17|  595|   0|\n",
              "        18|  862|   0|\n",
              "        19| 1050|   3|\n",
              "        20| 1112|   1|\n",
              "        21| 1090|   6|\n",
              "        22| 1161|  17|\n",
              "        23| 1307|  22|\n",
              "        24| 1162|  44|\n",
              "        25| 1119|  76|\n",
              "        26| 1068|  85|\n",
              "        27| 1117| 115|\n",
              "        28| 1101| 179|\n",
              "        29| 1025| 198|\n",
              "        30| 1031| 247|\n",
              "        31| 1050| 275|\n",
              "        32|  957| 296|\n",
              "        33| 1045| 290|\n",
              "        34|  949| 354|\n",
              "        35|  997| 340|\n",
              "        36|  948| 400|\n",
              "+----------+-----+----+\n",
              "only showing top 20 rows\n",
              "\n",
              "</div>"
            ]
          },
          "metadata": {
            "tags": []
          }
        }
      ]
    },
    {
      "cell_type": "code",
      "metadata": {
        "id": "C0t6dgPDvaEb",
        "outputId": "89222fb4-2977-4df5-dcac-d1fca3309e7f"
      },
      "source": [
        "#filtrando os dados\n",
        "data.filter(data.age > 50).count()\t\t"
      ],
      "execution_count": null,
      "outputs": [
        {
          "output_type": "display_data",
          "data": {
            "text/html": [
              "<style scoped>\n",
              "  .ansiout {\n",
              "    display: block;\n",
              "    unicode-bidi: embed;\n",
              "    white-space: pre-wrap;\n",
              "    word-wrap: break-word;\n",
              "    word-break: break-all;\n",
              "    font-family: \"Source Code Pro\", \"Menlo\", monospace;;\n",
              "    font-size: 13px;\n",
              "    color: #555;\n",
              "    margin-left: 4px;\n",
              "    line-height: 19px;\n",
              "  }\n",
              "</style>\n",
              "<div class=\"ansiout\">Out[27]: 9808</div>"
            ]
          },
          "metadata": {
            "tags": []
          }
        }
      ]
    },
    {
      "cell_type": "code",
      "metadata": {
        "id": "RkCIZ3S0vaFL",
        "outputId": "238f3aa9-4baf-43a4-cf20-2630f04d90f1"
      },
      "source": [
        "data.filter(data.income== '>50K').count()\t"
      ],
      "execution_count": null,
      "outputs": [
        {
          "output_type": "display_data",
          "data": {
            "text/html": [
              "<style scoped>\n",
              "  .ansiout {\n",
              "    display: block;\n",
              "    unicode-bidi: embed;\n",
              "    white-space: pre-wrap;\n",
              "    word-wrap: break-word;\n",
              "    word-break: break-all;\n",
              "    font-family: \"Source Code Pro\", \"Menlo\", monospace;;\n",
              "    font-size: 13px;\n",
              "    color: #555;\n",
              "    margin-left: 4px;\n",
              "    line-height: 19px;\n",
              "  }\n",
              "</style>\n",
              "<div class=\"ansiout\">Out[29]: 11687</div>"
            ]
          },
          "metadata": {
            "tags": []
          }
        }
      ]
    },
    {
      "cell_type": "markdown",
      "metadata": {
        "id": "FJV7tpqQvaFt"
      },
      "source": [
        "3) Pré-processamento dos dados"
      ]
    },
    {
      "cell_type": "code",
      "metadata": {
        "id": "OO3xjz1pvaF1",
        "outputId": "95dd5423-e16e-4132-8e14-b1abb3f3a95e"
      },
      "source": [
        "#filtrando alguns dados\n",
        "data.filter(data['native-country'] == 'Holand-Netherlands').count()"
      ],
      "execution_count": null,
      "outputs": [
        {
          "output_type": "display_data",
          "data": {
            "text/html": [
              "<style scoped>\n",
              "  .ansiout {\n",
              "    display: block;\n",
              "    unicode-bidi: embed;\n",
              "    white-space: pre-wrap;\n",
              "    word-wrap: break-word;\n",
              "    word-break: break-all;\n",
              "    font-family: \"Source Code Pro\", \"Menlo\", monospace;;\n",
              "    font-size: 13px;\n",
              "    color: #555;\n",
              "    margin-left: 4px;\n",
              "    line-height: 19px;\n",
              "  }\n",
              "</style>\n",
              "<div class=\"ansiout\">Out[32]: 1</div>"
            ]
          },
          "metadata": {
            "tags": []
          }
        }
      ]
    },
    {
      "cell_type": "code",
      "metadata": {
        "id": "i5EjrLUKvaGs",
        "outputId": "aa3c686b-c8ce-4ac8-b31c-3f75e426144c"
      },
      "source": [
        "#contando a quantidade de pessoas por cada país natal\n",
        "from pyspark.sql.functions import *\n",
        "data.groupby('native-country').agg({'native-country': 'count'}).sort(asc(\"count(native-country)\")).show()"
      ],
      "execution_count": null,
      "outputs": [
        {
          "output_type": "display_data",
          "data": {
            "text/html": [
              "<style scoped>\n",
              "  .ansiout {\n",
              "    display: block;\n",
              "    unicode-bidi: embed;\n",
              "    white-space: pre-wrap;\n",
              "    word-wrap: break-word;\n",
              "    word-break: break-all;\n",
              "    font-family: \"Source Code Pro\", \"Menlo\", monospace;;\n",
              "    font-size: 13px;\n",
              "    color: #555;\n",
              "    margin-left: 4px;\n",
              "    line-height: 19px;\n",
              "  }\n",
              "</style>\n",
              "<div class=\"ansiout\">+--------------------+---------------------+\n",
              "      native-country|count(native-country)|\n",
              "+--------------------+---------------------+\n",
              "  Holand-Netherlands|                    1|\n",
              "             Hungary|                   19|\n",
              "            Honduras|                   20|\n",
              "            Scotland|                   21|\n",
              "Outlying-US(Guam-...|                   23|\n",
              "          Yugoslavia|                   23|\n",
              "                Laos|                   23|\n",
              "     Trinadad&amp;Tobago|                   27|\n",
              "            Cambodia|                   28|\n",
              "                Hong|                   30|\n",
              "            Thailand|                   30|\n",
              "             Ireland|                   37|\n",
              "              France|                   38|\n",
              "             Ecuador|                   45|\n",
              "                Peru|                   46|\n",
              "              Greece|                   49|\n",
              "           Nicaragua|                   49|\n",
              "                Iran|                   59|\n",
              "              Taiwan|                   65|\n",
              "            Portugal|                   67|\n",
              "+--------------------+---------------------+\n",
              "only showing top 20 rows\n",
              "\n",
              "</div>"
            ]
          },
          "metadata": {
            "tags": []
          }
        }
      ]
    },
    {
      "cell_type": "code",
      "metadata": {
        "id": "_cct2gaWvaHf",
        "outputId": "4a67f13c-6f79-447f-f81a-84a1204bbc2f"
      },
      "source": [
        "#retirando quem é da Holanda\n",
        "data_sem_holanda = data.filter(data['native-country'] !=\t'Holand-Netherlands')"
      ],
      "execution_count": null,
      "outputs": [
        {
          "output_type": "display_data",
          "data": {
            "text/html": [
              "<style scoped>\n",
              "  .ansiout {\n",
              "    display: block;\n",
              "    unicode-bidi: embed;\n",
              "    white-space: pre-wrap;\n",
              "    word-wrap: break-word;\n",
              "    word-break: break-all;\n",
              "    font-family: \"Source Code Pro\", \"Menlo\", monospace;;\n",
              "    font-size: 13px;\n",
              "    color: #555;\n",
              "    margin-left: 4px;\n",
              "    line-height: 19px;\n",
              "  }\n",
              "</style>\n",
              "<div class=\"ansiout\"></div>"
            ]
          },
          "metadata": {
            "tags": []
          }
        }
      ]
    },
    {
      "cell_type": "code",
      "metadata": {
        "id": "6-xylu31vaIV",
        "outputId": "eac09d64-3373-47a9-eb7d-a9b3db1f1a81"
      },
      "source": [
        "data_sem_holanda.groupby('native-country').agg({'native-country': 'count'}).sort(asc(\"count(native-country)\")).show()"
      ],
      "execution_count": null,
      "outputs": [
        {
          "output_type": "display_data",
          "data": {
            "text/html": [
              "<style scoped>\n",
              "  .ansiout {\n",
              "    display: block;\n",
              "    unicode-bidi: embed;\n",
              "    white-space: pre-wrap;\n",
              "    word-wrap: break-word;\n",
              "    word-break: break-all;\n",
              "    font-family: \"Source Code Pro\", \"Menlo\", monospace;;\n",
              "    font-size: 13px;\n",
              "    color: #555;\n",
              "    margin-left: 4px;\n",
              "    line-height: 19px;\n",
              "  }\n",
              "</style>\n",
              "<div class=\"ansiout\">+--------------------+---------------------+\n",
              "      native-country|count(native-country)|\n",
              "+--------------------+---------------------+\n",
              "             Hungary|                   19|\n",
              "            Honduras|                   20|\n",
              "            Scotland|                   21|\n",
              "          Yugoslavia|                   23|\n",
              "Outlying-US(Guam-...|                   23|\n",
              "                Laos|                   23|\n",
              "     Trinadad&amp;Tobago|                   27|\n",
              "            Cambodia|                   28|\n",
              "                Hong|                   30|\n",
              "            Thailand|                   30|\n",
              "             Ireland|                   37|\n",
              "              France|                   38|\n",
              "             Ecuador|                   45|\n",
              "                Peru|                   46|\n",
              "           Nicaragua|                   49|\n",
              "              Greece|                   49|\n",
              "                Iran|                   59|\n",
              "              Taiwan|                   65|\n",
              "            Portugal|                   67|\n",
              "               Haiti|                   75|\n",
              "+--------------------+---------------------+\n",
              "only showing top 20 rows\n",
              "\n",
              "</div>"
            ]
          },
          "metadata": {
            "tags": []
          }
        }
      ]
    },
    {
      "cell_type": "markdown",
      "metadata": {
        "id": "1o0khp7bvaJG"
      },
      "source": [
        "Aplicando o Pipeline"
      ]
    },
    {
      "cell_type": "code",
      "metadata": {
        "id": "MbL3-rjbvaJL",
        "outputId": "93527a8e-0e49-42da-aaf7-f07537262d42"
      },
      "source": [
        "#transoformando os dados - string em inteiros\n",
        "from pyspark.ml.feature import StringIndexer, OneHotEncoder, VectorAssembler\n",
        "stringIndexer=StringIndexer(inputCol=\"workclass\", outputCol=\"workclass_encoded\")  #define o objeto"
      ],
      "execution_count": null,
      "outputs": [
        {
          "output_type": "display_data",
          "data": {
            "text/html": [
              "<style scoped>\n",
              "  .ansiout {\n",
              "    display: block;\n",
              "    unicode-bidi: embed;\n",
              "    white-space: pre-wrap;\n",
              "    word-wrap: break-word;\n",
              "    word-break: break-all;\n",
              "    font-family: \"Source Code Pro\", \"Menlo\", monospace;;\n",
              "    font-size: 13px;\n",
              "    color: #555;\n",
              "    margin-left: 4px;\n",
              "    line-height: 19px;\n",
              "  }\n",
              "</style>\n",
              "<div class=\"ansiout\"></div>"
            ]
          },
          "metadata": {
            "tags": []
          }
        }
      ]
    },
    {
      "cell_type": "code",
      "metadata": {
        "id": "FqIoQHOXvaJu",
        "outputId": "1f99d55f-690b-4d4a-dbf7-bc9af64c4a90"
      },
      "source": [
        "#aplica o modelo de transformação\n",
        "model = stringIndexer.fit(data_sem_holanda)\n",
        "indexed = model.transform(data_sem_holanda)"
      ],
      "execution_count": null,
      "outputs": [
        {
          "output_type": "display_data",
          "data": {
            "text/html": [
              "<style scoped>\n",
              "  .ansiout {\n",
              "    display: block;\n",
              "    unicode-bidi: embed;\n",
              "    white-space: pre-wrap;\n",
              "    word-wrap: break-word;\n",
              "    word-break: break-all;\n",
              "    font-family: \"Source Code Pro\", \"Menlo\", monospace;;\n",
              "    font-size: 13px;\n",
              "    color: #555;\n",
              "    margin-left: 4px;\n",
              "    line-height: 19px;\n",
              "  }\n",
              "</style>\n",
              "<div class=\"ansiout\"></div>"
            ]
          },
          "metadata": {
            "tags": []
          }
        }
      ]
    },
    {
      "cell_type": "code",
      "metadata": {
        "id": "WXY6C2d2vaKW",
        "outputId": "204fee46-6162-4d93-fca5-94897407271b"
      },
      "source": [
        "indexed.show()"
      ],
      "execution_count": null,
      "outputs": [
        {
          "output_type": "display_data",
          "data": {
            "text/html": [
              "<style scoped>\n",
              "  .ansiout {\n",
              "    display: block;\n",
              "    unicode-bidi: embed;\n",
              "    white-space: pre-wrap;\n",
              "    word-wrap: break-word;\n",
              "    word-break: break-all;\n",
              "    font-family: \"Source Code Pro\", \"Menlo\", monospace;;\n",
              "    font-size: 13px;\n",
              "    color: #555;\n",
              "    margin-left: 4px;\n",
              "    line-height: 19px;\n",
              "  }\n",
              "</style>\n",
              "<div class=\"ansiout\">+---+---+----------------+------+------------+---------------+------------------+-----------------+-------------+------------------+------+------------+------------+--------------+--------------+------+-----------------+\n",
              "  x|age|       workclass|fnlwgt|   education|educational-num|    marital-status|       occupation| relationship|              race|gender|capital-gain|capital-loss|hours-per-week|native-country|income|workclass_encoded|\n",
              "+---+---+----------------+------+------------+---------------+------------------+-----------------+-------------+------------------+------+------------+------------+--------------+--------------+------+-----------------+\n",
              "  1| 25|         Private|226802|        11th|              7|     Never-married|Machine-op-inspct|    Own-child|             Black|  Male|           0|           0|            40| United-States| &lt;=50K|              0.0|\n",
              "  2| 38|         Private| 89814|     HS-grad|              9|Married-civ-spouse|  Farming-fishing|      Husband|             White|  Male|           0|           0|            50| United-States| &lt;=50K|              0.0|\n",
              "  3| 28|       Local-gov|336951|  Assoc-acdm|             12|Married-civ-spouse|  Protective-serv|      Husband|             White|  Male|           0|           0|            40| United-States|  &gt;50K|              2.0|\n",
              "  4| 44|         Private|160323|Some-college|             10|Married-civ-spouse|Machine-op-inspct|      Husband|             Black|  Male|        7688|           0|            40| United-States|  &gt;50K|              0.0|\n",
              "  5| 18|               ?|103497|Some-college|             10|     Never-married|                ?|    Own-child|             White|Female|           0|           0|            30| United-States| &lt;=50K|              3.0|\n",
              "  6| 34|         Private|198693|        10th|              6|     Never-married|    Other-service|Not-in-family|             White|  Male|           0|           0|            30| United-States| &lt;=50K|              0.0|\n",
              "  7| 29|               ?|227026|     HS-grad|              9|     Never-married|                ?|    Unmarried|             Black|  Male|           0|           0|            40| United-States| &lt;=50K|              3.0|\n",
              "  8| 63|Self-emp-not-inc|104626| Prof-school|             15|Married-civ-spouse|   Prof-specialty|      Husband|             White|  Male|        3103|           0|            32| United-States|  &gt;50K|              1.0|\n",
              "  9| 24|         Private|369667|Some-college|             10|     Never-married|    Other-service|    Unmarried|             White|Female|           0|           0|            40| United-States| &lt;=50K|              0.0|\n",
              " 10| 55|         Private|104996|     7th-8th|              4|Married-civ-spouse|     Craft-repair|      Husband|             White|  Male|           0|           0|            10| United-States| &lt;=50K|              0.0|\n",
              " 11| 65|         Private|184454|     HS-grad|              9|Married-civ-spouse|Machine-op-inspct|      Husband|             White|  Male|        6418|           0|            40| United-States|  &gt;50K|              0.0|\n",
              " 12| 36|     Federal-gov|212465|   Bachelors|             13|Married-civ-spouse|     Adm-clerical|      Husband|             White|  Male|           0|           0|            40| United-States| &lt;=50K|              6.0|\n",
              " 13| 26|         Private| 82091|     HS-grad|              9|     Never-married|     Adm-clerical|Not-in-family|             White|Female|           0|           0|            39| United-States| &lt;=50K|              0.0|\n",
              " 14| 58|               ?|299831|     HS-grad|              9|Married-civ-spouse|                ?|      Husband|             White|  Male|           0|           0|            35| United-States| &lt;=50K|              3.0|\n",
              " 15| 48|         Private|279724|     HS-grad|              9|Married-civ-spouse|Machine-op-inspct|      Husband|             White|  Male|        3103|           0|            48| United-States|  &gt;50K|              0.0|\n",
              " 16| 43|         Private|346189|     Masters|             14|Married-civ-spouse|  Exec-managerial|      Husband|             White|  Male|           0|           0|            50| United-States|  &gt;50K|              0.0|\n",
              " 17| 20|       State-gov|444554|Some-college|             10|     Never-married|    Other-service|    Own-child|             White|  Male|           0|           0|            25| United-States| &lt;=50K|              4.0|\n",
              " 18| 43|         Private|128354|     HS-grad|              9|Married-civ-spouse|     Adm-clerical|         Wife|             White|Female|           0|           0|            30| United-States| &lt;=50K|              0.0|\n",
              " 19| 37|         Private| 60548|     HS-grad|              9|           Widowed|Machine-op-inspct|    Unmarried|             White|Female|           0|           0|            20| United-States| &lt;=50K|              0.0|\n",
              " 20| 40|         Private| 85019|   Doctorate|             16|Married-civ-spouse|   Prof-specialty|      Husband|Asian-Pac-Islander|  Male|           0|           0|            45|             ?|  &gt;50K|              0.0|\n",
              "+---+---+----------------+------+------------+---------------+------------------+-----------------+-------------+------------------+------+------------+------------+--------------+--------------+------+-----------------+\n",
              "only showing top 20 rows\n",
              "\n",
              "</div>"
            ]
          },
          "metadata": {
            "tags": []
          }
        }
      ]
    },
    {
      "cell_type": "code",
      "metadata": {
        "id": "ru0yz8iYvaK9",
        "outputId": "16ac2284-5a5c-4779-ff20-56797a2846f0"
      },
      "source": [
        "#contando a quantidade de calsses de trabalho existente\n",
        "data_sem_holanda.groupby('workclass').agg({'workclass':'count'}).count()"
      ],
      "execution_count": null,
      "outputs": [
        {
          "output_type": "display_data",
          "data": {
            "text/html": [
              "<style scoped>\n",
              "  .ansiout {\n",
              "    display: block;\n",
              "    unicode-bidi: embed;\n",
              "    white-space: pre-wrap;\n",
              "    word-wrap: break-word;\n",
              "    word-break: break-all;\n",
              "    font-family: \"Source Code Pro\", \"Menlo\", monospace;;\n",
              "    font-size: 13px;\n",
              "    color: #555;\n",
              "    margin-left: 4px;\n",
              "    line-height: 19px;\n",
              "  }\n",
              "</style>\n",
              "<div class=\"ansiout\">Out[55]: 9</div>"
            ]
          },
          "metadata": {
            "tags": []
          }
        }
      ]
    },
    {
      "cell_type": "code",
      "metadata": {
        "id": "f7tQfq3qvaLY",
        "outputId": "42942a9b-6a33-4759-b0cf-07caa81c9a81"
      },
      "source": [
        "#mostrando a quantidade por cada uma das classes\n",
        "data_sem_holanda.groupby('workclass').agg({'workclass':'count'}).show()"
      ],
      "execution_count": null,
      "outputs": [
        {
          "output_type": "display_data",
          "data": {
            "text/html": [
              "<style scoped>\n",
              "  .ansiout {\n",
              "    display: block;\n",
              "    unicode-bidi: embed;\n",
              "    white-space: pre-wrap;\n",
              "    word-wrap: break-word;\n",
              "    word-break: break-all;\n",
              "    font-family: \"Source Code Pro\", \"Menlo\", monospace;;\n",
              "    font-size: 13px;\n",
              "    color: #555;\n",
              "    margin-left: 4px;\n",
              "    line-height: 19px;\n",
              "  }\n",
              "</style>\n",
              "<div class=\"ansiout\">+----------------+----------------+\n",
              "       workclass|count(workclass)|\n",
              "+----------------+----------------+\n",
              "Self-emp-not-inc|            3862|\n",
              "       Local-gov|            3136|\n",
              "       State-gov|            1981|\n",
              "         Private|           33905|\n",
              "     Without-pay|              21|\n",
              "     Federal-gov|            1432|\n",
              "    Never-worked|              10|\n",
              "               ?|            2799|\n",
              "    Self-emp-inc|            1695|\n",
              "+----------------+----------------+\n",
              "\n",
              "</div>"
            ]
          },
          "metadata": {
            "tags": []
          }
        }
      ]
    },
    {
      "cell_type": "code",
      "metadata": {
        "id": "OGFaY4S8vaL6",
        "outputId": "774e99d3-e0b4-4f90-bfe5-d1d029160be1"
      },
      "source": [
        "#aplicando o One-Hot encoding\n",
        "encoder = OneHotEncoder(dropLast=False, inputCol=\"workclass_encoded\", outputCol=\"workclass_vec\")\n",
        "encoded = encoder.transform(indexed)\n",
        "encoded.show(5)"
      ],
      "execution_count": null,
      "outputs": [
        {
          "output_type": "display_data",
          "data": {
            "text/html": [
              "<style scoped>\n",
              "  .ansiout {\n",
              "    display: block;\n",
              "    unicode-bidi: embed;\n",
              "    white-space: pre-wrap;\n",
              "    word-wrap: break-word;\n",
              "    word-break: break-all;\n",
              "    font-family: \"Source Code Pro\", \"Menlo\", monospace;;\n",
              "    font-size: 13px;\n",
              "    color: #555;\n",
              "    margin-left: 4px;\n",
              "    line-height: 19px;\n",
              "  }\n",
              "</style>\n",
              "<div class=\"ansiout\">+---+---+---------+------+------------+---------------+------------------+-----------------+------------+-----+------+------------+------------+--------------+--------------+------+-----------------+-------------+\n",
              "  x|age|workclass|fnlwgt|   education|educational-num|    marital-status|       occupation|relationship| race|gender|capital-gain|capital-loss|hours-per-week|native-country|income|workclass_encoded|workclass_vec|\n",
              "+---+---+---------+------+------------+---------------+------------------+-----------------+------------+-----+------+------------+------------+--------------+--------------+------+-----------------+-------------+\n",
              "  1| 25|  Private|226802|        11th|              7|     Never-married|Machine-op-inspct|   Own-child|Black|  Male|           0|           0|            40| United-States| &lt;=50K|              0.0|(9,[0],[1.0])|\n",
              "  2| 38|  Private| 89814|     HS-grad|              9|Married-civ-spouse|  Farming-fishing|     Husband|White|  Male|           0|           0|            50| United-States| &lt;=50K|              0.0|(9,[0],[1.0])|\n",
              "  3| 28|Local-gov|336951|  Assoc-acdm|             12|Married-civ-spouse|  Protective-serv|     Husband|White|  Male|           0|           0|            40| United-States|  &gt;50K|              2.0|(9,[2],[1.0])|\n",
              "  4| 44|  Private|160323|Some-college|             10|Married-civ-spouse|Machine-op-inspct|     Husband|Black|  Male|        7688|           0|            40| United-States|  &gt;50K|              0.0|(9,[0],[1.0])|\n",
              "  5| 18|        ?|103497|Some-college|             10|     Never-married|                ?|   Own-child|White|Female|           0|           0|            30| United-States| &lt;=50K|              3.0|(9,[3],[1.0])|\n",
              "+---+---+---------+------+------------+---------------+------------------+-----------------+------------+-----+------+------------+------------+--------------+--------------+------+-----------------+-------------+\n",
              "only showing top 5 rows\n",
              "\n",
              "</div>"
            ]
          },
          "metadata": {
            "tags": []
          }
        }
      ]
    },
    {
      "cell_type": "code",
      "metadata": {
        "id": "sCbLWq5YvaMd",
        "outputId": "21f01283-782a-4a93-f64d-615217d4b00b"
      },
      "source": [
        "#criando o pipeline para as entradas\n",
        "from pyspark.ml import Pipeline\n",
        "from pyspark.ml.feature import OneHotEncoderEstimator\n",
        "entradas_categoricas = ['workclass', 'education', 'marital-status', 'occupation', 'relationship', 'race', 'gender', 'native-country']\n",
        "stages = [] # stages in our Pipeline\n",
        "for categoricalCol in entradas_categoricas:\n",
        "    stringIndexer = StringIndexer(inputCol=categoricalCol, outputCol=categoricalCol + \"Index\")\n",
        "    encoder = OneHotEncoderEstimator(inputCols=[stringIndexer.getOutputCol()],outputCols=[categoricalCol + \"classVec\"])\n",
        "    stages += [stringIndexer, encoder]"
      ],
      "execution_count": null,
      "outputs": [
        {
          "output_type": "display_data",
          "data": {
            "text/html": [
              "<style scoped>\n",
              "  .ansiout {\n",
              "    display: block;\n",
              "    unicode-bidi: embed;\n",
              "    white-space: pre-wrap;\n",
              "    word-wrap: break-word;\n",
              "    word-break: break-all;\n",
              "    font-family: \"Source Code Pro\", \"Menlo\", monospace;;\n",
              "    font-size: 13px;\n",
              "    color: #555;\n",
              "    margin-left: 4px;\n",
              "    line-height: 19px;\n",
              "  }\n",
              "</style>\n",
              "<div class=\"ansiout\"></div>"
            ]
          },
          "metadata": {
            "tags": []
          }
        }
      ]
    },
    {
      "cell_type": "code",
      "metadata": {
        "id": "N4PeJ2QYvaNA",
        "outputId": "ca44dcf5-0390-4c76-e1a1-0362c4023e2e"
      },
      "source": [
        "#criando o pipeline para a saídas\n",
        "saida_stringIdx =  StringIndexer(inputCol=\"income\", outputCol=\"new_income\")\n",
        "stages += [saida_stringIdx]"
      ],
      "execution_count": null,
      "outputs": [
        {
          "output_type": "display_data",
          "data": {
            "text/html": [
              "<style scoped>\n",
              "  .ansiout {\n",
              "    display: block;\n",
              "    unicode-bidi: embed;\n",
              "    white-space: pre-wrap;\n",
              "    word-wrap: break-word;\n",
              "    word-break: break-all;\n",
              "    font-family: \"Source Code Pro\", \"Menlo\", monospace;;\n",
              "    font-size: 13px;\n",
              "    color: #555;\n",
              "    margin-left: 4px;\n",
              "    line-height: 19px;\n",
              "  }\n",
              "</style>\n",
              "<div class=\"ansiout\"></div>"
            ]
          },
          "metadata": {
            "tags": []
          }
        }
      ]
    },
    {
      "cell_type": "code",
      "metadata": {
        "id": "EfDs7zNrvaNa",
        "outputId": "b5983383-5e42-46cd-ddfb-40800f0f2618"
      },
      "source": [
        "#criando as entradas para o modelo\n",
        "assemblerInputs = [c + \"classVec\" for c in entradas_categoricas] + entradas_numericas"
      ],
      "execution_count": null,
      "outputs": [
        {
          "output_type": "display_data",
          "data": {
            "text/html": [
              "<style scoped>\n",
              "  .ansiout {\n",
              "    display: block;\n",
              "    unicode-bidi: embed;\n",
              "    white-space: pre-wrap;\n",
              "    word-wrap: break-word;\n",
              "    word-break: break-all;\n",
              "    font-family: \"Source Code Pro\", \"Menlo\", monospace;;\n",
              "    font-size: 13px;\n",
              "    color: #555;\n",
              "    margin-left: 4px;\n",
              "    line-height: 19px;\n",
              "  }\n",
              "</style>\n",
              "<div class=\"ansiout\"></div>"
            ]
          },
          "metadata": {
            "tags": []
          }
        }
      ]
    },
    {
      "cell_type": "code",
      "metadata": {
        "id": "dJhwrSpwvaN4",
        "outputId": "f310eed1-c488-407f-f8c7-f2712e830e49"
      },
      "source": [
        "assemblerInputs"
      ],
      "execution_count": null,
      "outputs": [
        {
          "output_type": "display_data",
          "data": {
            "text/html": [
              "<style scoped>\n",
              "  .ansiout {\n",
              "    display: block;\n",
              "    unicode-bidi: embed;\n",
              "    white-space: pre-wrap;\n",
              "    word-wrap: break-word;\n",
              "    word-break: break-all;\n",
              "    font-family: \"Source Code Pro\", \"Menlo\", monospace;;\n",
              "    font-size: 13px;\n",
              "    color: #555;\n",
              "    margin-left: 4px;\n",
              "    line-height: 19px;\n",
              "  }\n",
              "</style>\n",
              "<div class=\"ansiout\">Out[82]: [&#39;workclassclassVec&#39;,\n",
              " &#39;educationclassVec&#39;,\n",
              " &#39;marital-statusclassVec&#39;,\n",
              " &#39;occupationclassVec&#39;,\n",
              " &#39;relationshipclassVec&#39;,\n",
              " &#39;raceclassVec&#39;,\n",
              " &#39;genderclassVec&#39;,\n",
              " &#39;native-countryclassVec&#39;,\n",
              " &#39;age&#39;,\n",
              " &#39;fnlwgt&#39;,\n",
              " &#39;capital-gain&#39;,\n",
              " &#39;educational-num&#39;,\n",
              " &#39;capital-loss&#39;,\n",
              " &#39;hours-per-week&#39;]</div>"
            ]
          },
          "metadata": {
            "tags": []
          }
        }
      ]
    },
    {
      "cell_type": "code",
      "metadata": {
        "id": "9Uh7mwpRvaOe",
        "outputId": "2f10fa66-6848-41bd-be2d-34d10098c409"
      },
      "source": [
        "#define a construção do vetor\n",
        "assembler = VectorAssembler(inputCols=assemblerInputs, outputCol=\"features\")\n",
        "stages += [assembler]"
      ],
      "execution_count": null,
      "outputs": [
        {
          "output_type": "display_data",
          "data": {
            "text/html": [
              "<style scoped>\n",
              "  .ansiout {\n",
              "    display: block;\n",
              "    unicode-bidi: embed;\n",
              "    white-space: pre-wrap;\n",
              "    word-wrap: break-word;\n",
              "    word-break: break-all;\n",
              "    font-family: \"Source Code Pro\", \"Menlo\", monospace;;\n",
              "    font-size: 13px;\n",
              "    color: #555;\n",
              "    margin-left: 4px;\n",
              "    line-height: 19px;\n",
              "  }\n",
              "</style>\n",
              "<div class=\"ansiout\"></div>"
            ]
          },
          "metadata": {
            "tags": []
          }
        }
      ]
    },
    {
      "cell_type": "code",
      "metadata": {
        "id": "EKD9LKjNvaPB",
        "outputId": "d53a6220-130a-4404-b9e1-fc4f176473fa"
      },
      "source": [
        "stages"
      ],
      "execution_count": null,
      "outputs": [
        {
          "output_type": "display_data",
          "data": {
            "text/html": [
              "<style scoped>\n",
              "  .ansiout {\n",
              "    display: block;\n",
              "    unicode-bidi: embed;\n",
              "    white-space: pre-wrap;\n",
              "    word-wrap: break-word;\n",
              "    word-break: break-all;\n",
              "    font-family: \"Source Code Pro\", \"Menlo\", monospace;;\n",
              "    font-size: 13px;\n",
              "    color: #555;\n",
              "    margin-left: 4px;\n",
              "    line-height: 19px;\n",
              "  }\n",
              "</style>\n",
              "<div class=\"ansiout\">Out[77]: [StringIndexer_81589daaebd1,\n",
              " OneHotEncoderEstimator_7833773e2035,\n",
              " StringIndexer_2d8db59d7512,\n",
              " OneHotEncoderEstimator_ea5ceff03b98,\n",
              " StringIndexer_9f2d67ce0016,\n",
              " OneHotEncoderEstimator_a243be802b7f,\n",
              " StringIndexer_d00ccdb2885a,\n",
              " OneHotEncoderEstimator_1169abfdb798,\n",
              " StringIndexer_45c417b5650b,\n",
              " OneHotEncoderEstimator_4853a0015e70,\n",
              " StringIndexer_2c7db92b8b10,\n",
              " OneHotEncoderEstimator_45a14e992cf7,\n",
              " StringIndexer_c68ffebf69c5,\n",
              " OneHotEncoderEstimator_a5aeb4a00382,\n",
              " StringIndexer_19c68b13ff35,\n",
              " OneHotEncoderEstimator_ca201ac972d3,\n",
              " StringIndexer_85fd1308cab2,\n",
              " VectorAssembler_ab2d8c055f20]</div>"
            ]
          },
          "metadata": {
            "tags": []
          }
        }
      ]
    },
    {
      "cell_type": "code",
      "metadata": {
        "id": "jo2wz8PsvaPx",
        "outputId": "aca3d5c1-cee0-4526-b8da-5df03dd51e30"
      },
      "source": [
        "# Aplicando o pipeline\n",
        "pipeline = Pipeline(stages=stages)\n",
        "pipelineModel = pipeline.fit(data_sem_holanda)\n",
        "model = pipelineModel.transform(data_sem_holanda)"
      ],
      "execution_count": null,
      "outputs": [
        {
          "output_type": "display_data",
          "data": {
            "text/html": [
              "<style scoped>\n",
              "  .ansiout {\n",
              "    display: block;\n",
              "    unicode-bidi: embed;\n",
              "    white-space: pre-wrap;\n",
              "    word-wrap: break-word;\n",
              "    word-break: break-all;\n",
              "    font-family: \"Source Code Pro\", \"Menlo\", monospace;;\n",
              "    font-size: 13px;\n",
              "    color: #555;\n",
              "    margin-left: 4px;\n",
              "    line-height: 19px;\n",
              "  }\n",
              "</style>\n",
              "<div class=\"ansiout\"></div>"
            ]
          },
          "metadata": {
            "tags": []
          }
        }
      ]
    },
    {
      "cell_type": "code",
      "metadata": {
        "id": "DW04_nFhvaQX",
        "outputId": "e9343828-b44f-4906-f37e-225ea94bd361"
      },
      "source": [
        "#mostrando parte dos dados para entrada\n",
        "model.select('age','workclass','marital-status','workclassclassVec','marital-statusclassVec').show()"
      ],
      "execution_count": null,
      "outputs": [
        {
          "output_type": "display_data",
          "data": {
            "text/html": [
              "<style scoped>\n",
              "  .ansiout {\n",
              "    display: block;\n",
              "    unicode-bidi: embed;\n",
              "    white-space: pre-wrap;\n",
              "    word-wrap: break-word;\n",
              "    word-break: break-all;\n",
              "    font-family: \"Source Code Pro\", \"Menlo\", monospace;;\n",
              "    font-size: 13px;\n",
              "    color: #555;\n",
              "    margin-left: 4px;\n",
              "    line-height: 19px;\n",
              "  }\n",
              "</style>\n",
              "<div class=\"ansiout\">+---+----------------+------------------+-----------------+----------------------+\n",
              "age|       workclass|    marital-status|workclassclassVec|marital-statusclassVec|\n",
              "+---+----------------+------------------+-----------------+----------------------+\n",
              " 25|         Private|     Never-married|    (8,[0],[1.0])|         (6,[1],[1.0])|\n",
              " 38|         Private|Married-civ-spouse|    (8,[0],[1.0])|         (6,[0],[1.0])|\n",
              " 28|       Local-gov|Married-civ-spouse|    (8,[2],[1.0])|         (6,[0],[1.0])|\n",
              " 44|         Private|Married-civ-spouse|    (8,[0],[1.0])|         (6,[0],[1.0])|\n",
              " 18|               ?|     Never-married|    (8,[3],[1.0])|         (6,[1],[1.0])|\n",
              " 34|         Private|     Never-married|    (8,[0],[1.0])|         (6,[1],[1.0])|\n",
              " 29|               ?|     Never-married|    (8,[3],[1.0])|         (6,[1],[1.0])|\n",
              " 63|Self-emp-not-inc|Married-civ-spouse|    (8,[1],[1.0])|         (6,[0],[1.0])|\n",
              " 24|         Private|     Never-married|    (8,[0],[1.0])|         (6,[1],[1.0])|\n",
              " 55|         Private|Married-civ-spouse|    (8,[0],[1.0])|         (6,[0],[1.0])|\n",
              " 65|         Private|Married-civ-spouse|    (8,[0],[1.0])|         (6,[0],[1.0])|\n",
              " 36|     Federal-gov|Married-civ-spouse|    (8,[6],[1.0])|         (6,[0],[1.0])|\n",
              " 26|         Private|     Never-married|    (8,[0],[1.0])|         (6,[1],[1.0])|\n",
              " 58|               ?|Married-civ-spouse|    (8,[3],[1.0])|         (6,[0],[1.0])|\n",
              " 48|         Private|Married-civ-spouse|    (8,[0],[1.0])|         (6,[0],[1.0])|\n",
              " 43|         Private|Married-civ-spouse|    (8,[0],[1.0])|         (6,[0],[1.0])|\n",
              " 20|       State-gov|     Never-married|    (8,[4],[1.0])|         (6,[1],[1.0])|\n",
              " 43|         Private|Married-civ-spouse|    (8,[0],[1.0])|         (6,[0],[1.0])|\n",
              " 37|         Private|           Widowed|    (8,[0],[1.0])|         (6,[4],[1.0])|\n",
              " 40|         Private|Married-civ-spouse|    (8,[0],[1.0])|         (6,[0],[1.0])|\n",
              "+---+----------------+------------------+-----------------+----------------------+\n",
              "only showing top 20 rows\n",
              "\n",
              "</div>"
            ]
          },
          "metadata": {
            "tags": []
          }
        }
      ]
    },
    {
      "cell_type": "markdown",
      "metadata": {
        "id": "W_OjEInKvaQv"
      },
      "source": [
        "Definindo o dataset de entrada"
      ]
    },
    {
      "cell_type": "code",
      "metadata": {
        "id": "GpPOfEIhvaQ1",
        "outputId": "3b41c19d-c2c0-456b-a2ef-0b7aed35a0e7"
      },
      "source": [
        "from pyspark.ml.linalg import DenseVector\n",
        "input_data = model.rdd.map(lambda x: (x[\"new_income\"], DenseVector(x[\"features\"])))  #cria o vetor denso para a construção dos dados para treinamento"
      ],
      "execution_count": null,
      "outputs": [
        {
          "output_type": "display_data",
          "data": {
            "text/html": [
              "<style scoped>\n",
              "  .ansiout {\n",
              "    display: block;\n",
              "    unicode-bidi: embed;\n",
              "    white-space: pre-wrap;\n",
              "    word-wrap: break-word;\n",
              "    word-break: break-all;\n",
              "    font-family: \"Source Code Pro\", \"Menlo\", monospace;;\n",
              "    font-size: 13px;\n",
              "    color: #555;\n",
              "    margin-left: 4px;\n",
              "    line-height: 19px;\n",
              "  }\n",
              "</style>\n",
              "<div class=\"ansiout\"></div>"
            ]
          },
          "metadata": {
            "tags": []
          }
        }
      ]
    },
    {
      "cell_type": "code",
      "metadata": {
        "id": "pb9H9udyvaRf",
        "outputId": "06364664-92f0-4c82-8d38-e69266ca4866"
      },
      "source": [
        "df_train = spark.createDataFrame(input_data, [\"label\", \"features\"])"
      ],
      "execution_count": null,
      "outputs": [
        {
          "output_type": "display_data",
          "data": {
            "text/html": [
              "<style scoped>\n",
              "  .ansiout {\n",
              "    display: block;\n",
              "    unicode-bidi: embed;\n",
              "    white-space: pre-wrap;\n",
              "    word-wrap: break-word;\n",
              "    word-break: break-all;\n",
              "    font-family: \"Source Code Pro\", \"Menlo\", monospace;;\n",
              "    font-size: 13px;\n",
              "    color: #555;\n",
              "    margin-left: 4px;\n",
              "    line-height: 19px;\n",
              "  }\n",
              "</style>\n",
              "<div class=\"ansiout\"></div>"
            ]
          },
          "metadata": {
            "tags": []
          }
        }
      ]
    },
    {
      "cell_type": "code",
      "metadata": {
        "id": "2Cwp8kG0vaR_",
        "outputId": "9bcb3696-a4c4-415b-9374-7fcd46c1d63a"
      },
      "source": [
        "df_train.show(truncate=True)"
      ],
      "execution_count": null,
      "outputs": [
        {
          "output_type": "display_data",
          "data": {
            "text/html": [
              "<style scoped>\n",
              "  .ansiout {\n",
              "    display: block;\n",
              "    unicode-bidi: embed;\n",
              "    white-space: pre-wrap;\n",
              "    word-wrap: break-word;\n",
              "    word-break: break-all;\n",
              "    font-family: \"Source Code Pro\", \"Menlo\", monospace;;\n",
              "    font-size: 13px;\n",
              "    color: #555;\n",
              "    margin-left: 4px;\n",
              "    line-height: 19px;\n",
              "  }\n",
              "</style>\n",
              "<div class=\"ansiout\">+-----+--------------------+\n",
              "label|            features|\n",
              "+-----+--------------------+\n",
              "  0.0|[1.0,0.0,0.0,0.0,...|\n",
              "  0.0|[1.0,0.0,0.0,0.0,...|\n",
              "  1.0|[0.0,0.0,1.0,0.0,...|\n",
              "  1.0|[1.0,0.0,0.0,0.0,...|\n",
              "  0.0|[0.0,0.0,0.0,1.0,...|\n",
              "  0.0|[1.0,0.0,0.0,0.0,...|\n",
              "  0.0|[0.0,0.0,0.0,1.0,...|\n",
              "  1.0|[0.0,1.0,0.0,0.0,...|\n",
              "  0.0|[1.0,0.0,0.0,0.0,...|\n",
              "  0.0|[1.0,0.0,0.0,0.0,...|\n",
              "  1.0|[1.0,0.0,0.0,0.0,...|\n",
              "  0.0|[0.0,0.0,0.0,0.0,...|\n",
              "  0.0|[1.0,0.0,0.0,0.0,...|\n",
              "  0.0|[0.0,0.0,0.0,1.0,...|\n",
              "  1.0|[1.0,0.0,0.0,0.0,...|\n",
              "  1.0|[1.0,0.0,0.0,0.0,...|\n",
              "  0.0|[0.0,0.0,0.0,0.0,...|\n",
              "  0.0|[1.0,0.0,0.0,0.0,...|\n",
              "  0.0|[1.0,0.0,0.0,0.0,...|\n",
              "  1.0|[1.0,0.0,0.0,0.0,...|\n",
              "+-----+--------------------+\n",
              "only showing top 20 rows\n",
              "\n",
              "</div>"
            ]
          },
          "metadata": {
            "tags": []
          }
        }
      ]
    },
    {
      "cell_type": "markdown",
      "metadata": {
        "id": "Pvbt698fvaSc"
      },
      "source": [
        "Dividindo os dados entre treinamento o teste"
      ]
    },
    {
      "cell_type": "code",
      "metadata": {
        "id": "H6eIb-9BvaSg",
        "outputId": "ce2ba272-e4d8-4bef-e84d-6e6f24ef0a16"
      },
      "source": [
        "#divide os dados entre treinamento e teste\n",
        "train_data, test_data = df_train.randomSplit([.8,.2],seed=1)"
      ],
      "execution_count": null,
      "outputs": [
        {
          "output_type": "display_data",
          "data": {
            "text/html": [
              "<style scoped>\n",
              "  .ansiout {\n",
              "    display: block;\n",
              "    unicode-bidi: embed;\n",
              "    white-space: pre-wrap;\n",
              "    word-wrap: break-word;\n",
              "    word-break: break-all;\n",
              "    font-family: \"Source Code Pro\", \"Menlo\", monospace;;\n",
              "    font-size: 13px;\n",
              "    color: #555;\n",
              "    margin-left: 4px;\n",
              "    line-height: 19px;\n",
              "  }\n",
              "</style>\n",
              "<div class=\"ansiout\"></div>"
            ]
          },
          "metadata": {
            "tags": []
          }
        }
      ]
    },
    {
      "cell_type": "markdown",
      "metadata": {
        "id": "GOssxDOOvaS4"
      },
      "source": [
        "Criando o modelo de regressão logística"
      ]
    },
    {
      "cell_type": "code",
      "metadata": {
        "id": "IBHgi2D5vaS9",
        "outputId": "6f0be275-fdc1-4e7e-c6a1-6c487fb7f1d6"
      },
      "source": [
        "#define o modelo de regrssão logística\n",
        "from pyspark.ml.classification import LogisticRegression\n",
        "\n",
        "#instancia o objeto para a regressão logística\n",
        "lr = LogisticRegression(labelCol=\"label\",featuresCol=\"features\", maxIter=10, regParam=0.3)\n",
        "\n",
        "# treina o modelo\n",
        "linearModel = lr.fit(train_data)"
      ],
      "execution_count": null,
      "outputs": [
        {
          "output_type": "display_data",
          "data": {
            "text/html": [
              "<style scoped>\n",
              "  .ansiout {\n",
              "    display: block;\n",
              "    unicode-bidi: embed;\n",
              "    white-space: pre-wrap;\n",
              "    word-wrap: break-word;\n",
              "    word-break: break-all;\n",
              "    font-family: \"Source Code Pro\", \"Menlo\", monospace;;\n",
              "    font-size: 13px;\n",
              "    color: #555;\n",
              "    margin-left: 4px;\n",
              "    line-height: 19px;\n",
              "  }\n",
              "</style>\n",
              "<div class=\"ansiout\"></div>"
            ]
          },
          "metadata": {
            "tags": []
          }
        }
      ]
    },
    {
      "cell_type": "code",
      "metadata": {
        "id": "g2Rp0AQ5vaTr",
        "outputId": "b1ede56b-6268-44d0-fc9a-b64fb156c8e2"
      },
      "source": [
        "#realizando as previsões do modelo\n",
        "predictions = linearModel.transform(test_data)"
      ],
      "execution_count": null,
      "outputs": [
        {
          "output_type": "display_data",
          "data": {
            "text/html": [
              "<style scoped>\n",
              "  .ansiout {\n",
              "    display: block;\n",
              "    unicode-bidi: embed;\n",
              "    white-space: pre-wrap;\n",
              "    word-wrap: break-word;\n",
              "    word-break: break-all;\n",
              "    font-family: \"Source Code Pro\", \"Menlo\", monospace;;\n",
              "    font-size: 13px;\n",
              "    color: #555;\n",
              "    margin-left: 4px;\n",
              "    line-height: 19px;\n",
              "  }\n",
              "</style>\n",
              "<div class=\"ansiout\"></div>"
            ]
          },
          "metadata": {
            "tags": []
          }
        }
      ]
    },
    {
      "cell_type": "code",
      "metadata": {
        "id": "uX6QGLBQvaUP",
        "outputId": "5fff4ae1-854c-42aa-d5b8-35b459517858"
      },
      "source": [
        "#selecionando algumas colunas para a previsão \n",
        "selected = predictions.select(\"label\", \"prediction\", \"probability\")\n",
        "selected.show(20)"
      ],
      "execution_count": null,
      "outputs": [
        {
          "output_type": "display_data",
          "data": {
            "text/html": [
              "<style scoped>\n",
              "  .ansiout {\n",
              "    display: block;\n",
              "    unicode-bidi: embed;\n",
              "    white-space: pre-wrap;\n",
              "    word-wrap: break-word;\n",
              "    word-break: break-all;\n",
              "    font-family: \"Source Code Pro\", \"Menlo\", monospace;;\n",
              "    font-size: 13px;\n",
              "    color: #555;\n",
              "    margin-left: 4px;\n",
              "    line-height: 19px;\n",
              "  }\n",
              "</style>\n",
              "<div class=\"ansiout\">+-----+----------+--------------------+\n",
              "label|prediction|         probability|\n",
              "+-----+----------+--------------------+\n",
              "  0.0|       0.0|[0.92520217264469...|\n",
              "  0.0|       0.0|[0.95366442060255...|\n",
              "  0.0|       0.0|[0.91926743351227...|\n",
              "  0.0|       1.0|[0.28291564193407...|\n",
              "  0.0|       0.0|[0.91100175677054...|\n",
              "  0.0|       0.0|[0.79718464294769...|\n",
              "  0.0|       1.0|[0.44760649374509...|\n",
              "  0.0|       1.0|[0.34791219662457...|\n",
              "  0.0|       0.0|[0.92772282224110...|\n",
              "  0.0|       0.0|[0.89413716107178...|\n",
              "  0.0|       0.0|[0.84459843234791...|\n",
              "  0.0|       0.0|[0.83989176314687...|\n",
              "  0.0|       1.0|[0.42211576831367...|\n",
              "  0.0|       0.0|[0.60400511213682...|\n",
              "  0.0|       0.0|[0.87256716864549...|\n",
              "  0.0|       0.0|[0.91601494734762...|\n",
              "  0.0|       0.0|[0.84459128246088...|\n",
              "  0.0|       0.0|[0.79420768806306...|\n",
              "  0.0|       0.0|[0.77933178462522...|\n",
              "  0.0|       0.0|[0.82631106770925...|\n",
              "+-----+----------+--------------------+\n",
              "only showing top 20 rows\n",
              "\n",
              "</div>"
            ]
          },
          "metadata": {
            "tags": []
          }
        }
      ]
    },
    {
      "cell_type": "markdown",
      "metadata": {
        "id": "UYN_tnY3vaUr"
      },
      "source": [
        "Avaliando o modelo"
      ]
    },
    {
      "cell_type": "code",
      "metadata": {
        "id": "L8OkFwugvaUv",
        "outputId": "433627e3-4304-4b7f-bab1-62c76f887134"
      },
      "source": [
        "from pyspark.ml.evaluation import BinaryClassificationEvaluator\n",
        "\n",
        "# Evaluate model\n",
        "evaluator = BinaryClassificationEvaluator(rawPredictionCol=\"rawPrediction\")\n",
        "print(evaluator.evaluate(predictions))"
      ],
      "execution_count": null,
      "outputs": [
        {
          "output_type": "display_data",
          "data": {
            "text/html": [
              "<style scoped>\n",
              "  .ansiout {\n",
              "    display: block;\n",
              "    unicode-bidi: embed;\n",
              "    white-space: pre-wrap;\n",
              "    word-wrap: break-word;\n",
              "    word-break: break-all;\n",
              "    font-family: \"Source Code Pro\", \"Menlo\", monospace;;\n",
              "    font-size: 13px;\n",
              "    color: #555;\n",
              "    margin-left: 4px;\n",
              "    line-height: 19px;\n",
              "  }\n",
              "</style>\n",
              "<div class=\"ansiout\">0.8917099585256496\n",
              "</div>"
            ]
          },
          "metadata": {
            "tags": []
          }
        }
      ]
    },
    {
      "cell_type": "code",
      "metadata": {
        "id": "osea7JvwvaVG",
        "outputId": "2586dc5d-5812-4e29-ab0c-96c8de2c1f25"
      },
      "source": [
        "predictions.printSchema()"
      ],
      "execution_count": null,
      "outputs": [
        {
          "output_type": "display_data",
          "data": {
            "text/html": [
              "<style scoped>\n",
              "  .ansiout {\n",
              "    display: block;\n",
              "    unicode-bidi: embed;\n",
              "    white-space: pre-wrap;\n",
              "    word-wrap: break-word;\n",
              "    word-break: break-all;\n",
              "    font-family: \"Source Code Pro\", \"Menlo\", monospace;;\n",
              "    font-size: 13px;\n",
              "    color: #555;\n",
              "    margin-left: 4px;\n",
              "    line-height: 19px;\n",
              "  }\n",
              "</style>\n",
              "<div class=\"ansiout\">root\n",
              "-- label: double (nullable = true)\n",
              "-- features: vector (nullable = true)\n",
              "-- rawPrediction: vector (nullable = true)\n",
              "-- probability: vector (nullable = true)\n",
              "-- prediction: double (nullable = false)\n",
              "\n",
              "</div>"
            ]
          },
          "metadata": {
            "tags": []
          }
        }
      ]
    }
  ]
}