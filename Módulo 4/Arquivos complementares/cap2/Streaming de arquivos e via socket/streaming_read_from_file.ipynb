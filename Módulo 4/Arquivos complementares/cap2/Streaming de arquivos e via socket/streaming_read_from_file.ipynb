{
 "cells": [
  {
   "cell_type": "markdown",
   "metadata": {},
   "source": [
    "**Exemplo de Streaming Para Leitura de Arquivos de Um Diretório**"
   ]
  },
  {
   "cell_type": "code",
   "execution_count": 1,
   "metadata": {},
   "outputs": [],
   "source": [
    "#cria a seção a ser utiliza para estabelecer a conexão \n",
    "from pyspark.sql import SparkSession\n",
    "from pyspark.sql.functions import explode\n",
    "from pyspark.sql.functions import split\n",
    "\n",
    "spark = SparkSession \\\n",
    "    .builder \\\n",
    "    .appName(\"StructuredNetworkWordCount\") \\\n",
    "    .getOrCreate()"
   ]
  },
  {
   "cell_type": "code",
   "execution_count": 2,
   "metadata": {},
   "outputs": [],
   "source": [
    "#cria o dataframe que será responsável por ler cada uma das linhas recebidas dos arquivos adicionados no diretório\n",
    "files_dir = spark.readStream\\\n",
    "    .format(\"text\")\\\n",
    "    .option(\"inferSchema\", \"true\")\\\n",
    "    .option(\"maxFilesPerTrigger\", 1)\\\n",
    "    .load(\"/home/tulio/Documents/Aulas_PFC/arquivos/*.txt\")"
   ]
  },
  {
   "cell_type": "code",
   "execution_count": 3,
   "metadata": {},
   "outputs": [
    {
     "data": {
      "text/plain": [
       "True"
      ]
     },
     "execution_count": 3,
     "metadata": {},
     "output_type": "execute_result"
    }
   ],
   "source": [
    "#verifica se criou o streaming\n",
    "files_dir.isStreaming"
   ]
  },
  {
   "cell_type": "code",
   "execution_count": 4,
   "metadata": {},
   "outputs": [],
   "source": [
    "# Divide as linhas recebidas em cada palavra\n",
    "words = files_dir.select(\n",
    "   explode(\n",
    "       split(files_dir.value, \" \")\n",
    "   ).alias(\"word\")\n",
    ")\n",
    "\n",
    "# cria o novo dataframe a ser responsável por contar a quantidade de palavras digitadas\n",
    "wordCounts = words.groupBy(\"word\").count()\n"
   ]
  },
  {
   "cell_type": "code",
   "execution_count": 5,
   "metadata": {},
   "outputs": [],
   "source": [
    "#ordena as palavras que mais aparecem\n",
    "from pyspark.sql.functions import desc\n",
    "wordCounts = wordCounts.sort(desc(\"count\"))"
   ]
  },
  {
   "cell_type": "code",
   "execution_count": null,
   "metadata": {},
   "outputs": [],
   "source": [
    "# Define a consulta (query) e como deve ser realizada a saída (sink) para o stream criado \n",
    "query = wordCounts \\\n",
    "    .writeStream \\\n",
    "    .outputMode(\"complete\") \\\n",
    "    .format(\"console\") \\\n",
    "    .start() #inicia a \"query\"\n",
    "\n",
    "\n",
    "query.awaitTermination() #aguarda até que a \"streaming query\" termine "
   ]
  },
  {
   "cell_type": "code",
   "execution_count": null,
   "metadata": {},
   "outputs": [],
   "source": []
  }
 ],
 "metadata": {
  "kernelspec": {
   "display_name": "Python 3",
   "language": "python",
   "name": "python3"
  },
  "language_info": {
   "codemirror_mode": {
    "name": "ipython",
    "version": 3
   },
   "file_extension": ".py",
   "mimetype": "text/x-python",
   "name": "python",
   "nbconvert_exporter": "python",
   "pygments_lexer": "ipython3",
   "version": "3.7.4"
  }
 },
 "nbformat": 4,
 "nbformat_minor": 2
}
